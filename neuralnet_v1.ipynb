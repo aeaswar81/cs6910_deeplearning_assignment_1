{
  "nbformat": 4,
  "nbformat_minor": 0,
  "metadata": {
    "colab": {
      "name": "Assgnment1_DL.ipynb",
      "provenance": [],
      "collapsed_sections": []
    },
    "kernelspec": {
      "display_name": "Python 3",
      "name": "python3"
    },
    "widgets": {
      "application/vnd.jupyter.widget-state+json": {
        "a2e3fd674ffc43478fc0c911c3e9a767": {
          "model_module": "@jupyter-widgets/controls",
          "model_name": "VBoxModel",
          "state": {
            "_dom_classes": [],
            "_model_module": "@jupyter-widgets/controls",
            "_model_module_version": "1.5.0",
            "_model_name": "VBoxModel",
            "_view_count": null,
            "_view_module": "@jupyter-widgets/controls",
            "_view_module_version": "1.5.0",
            "_view_name": "VBoxView",
            "box_style": "",
            "children": [
              "IPY_MODEL_f361944852c749219a48befb8e3abf9b",
              "IPY_MODEL_9706eda6a591411497ab8937399deb84"
            ],
            "layout": "IPY_MODEL_f8a6794833f744e8be957eef110a030b"
          }
        },
        "f361944852c749219a48befb8e3abf9b": {
          "model_module": "@jupyter-widgets/controls",
          "model_name": "LabelModel",
          "state": {
            "_dom_classes": [],
            "_model_module": "@jupyter-widgets/controls",
            "_model_module_version": "1.5.0",
            "_model_name": "LabelModel",
            "_view_count": null,
            "_view_module": "@jupyter-widgets/controls",
            "_view_module_version": "1.5.0",
            "_view_name": "LabelView",
            "description": "",
            "description_tooltip": null,
            "layout": "IPY_MODEL_b29eeb2e330f406d866c31051e47242a",
            "placeholder": "​",
            "style": "IPY_MODEL_fe8028de09ee4314b9a5d90de1731ba6",
            "value": " 0.01MB of 0.01MB uploaded (0.00MB deduped)\r"
          }
        },
        "9706eda6a591411497ab8937399deb84": {
          "model_module": "@jupyter-widgets/controls",
          "model_name": "FloatProgressModel",
          "state": {
            "_dom_classes": [],
            "_model_module": "@jupyter-widgets/controls",
            "_model_module_version": "1.5.0",
            "_model_name": "FloatProgressModel",
            "_view_count": null,
            "_view_module": "@jupyter-widgets/controls",
            "_view_module_version": "1.5.0",
            "_view_name": "ProgressView",
            "bar_style": "",
            "description": "",
            "description_tooltip": null,
            "layout": "IPY_MODEL_decfef04e45747279cb8a93802cca8a6",
            "max": 1,
            "min": 0,
            "orientation": "horizontal",
            "style": "IPY_MODEL_1bf2f63203f949cfa34264230523bbf9",
            "value": 1
          }
        },
        "f8a6794833f744e8be957eef110a030b": {
          "model_module": "@jupyter-widgets/base",
          "model_name": "LayoutModel",
          "state": {
            "_model_module": "@jupyter-widgets/base",
            "_model_module_version": "1.2.0",
            "_model_name": "LayoutModel",
            "_view_count": null,
            "_view_module": "@jupyter-widgets/base",
            "_view_module_version": "1.2.0",
            "_view_name": "LayoutView",
            "align_content": null,
            "align_items": null,
            "align_self": null,
            "border": null,
            "bottom": null,
            "display": null,
            "flex": null,
            "flex_flow": null,
            "grid_area": null,
            "grid_auto_columns": null,
            "grid_auto_flow": null,
            "grid_auto_rows": null,
            "grid_column": null,
            "grid_gap": null,
            "grid_row": null,
            "grid_template_areas": null,
            "grid_template_columns": null,
            "grid_template_rows": null,
            "height": null,
            "justify_content": null,
            "justify_items": null,
            "left": null,
            "margin": null,
            "max_height": null,
            "max_width": null,
            "min_height": null,
            "min_width": null,
            "object_fit": null,
            "object_position": null,
            "order": null,
            "overflow": null,
            "overflow_x": null,
            "overflow_y": null,
            "padding": null,
            "right": null,
            "top": null,
            "visibility": null,
            "width": null
          }
        },
        "b29eeb2e330f406d866c31051e47242a": {
          "model_module": "@jupyter-widgets/base",
          "model_name": "LayoutModel",
          "state": {
            "_model_module": "@jupyter-widgets/base",
            "_model_module_version": "1.2.0",
            "_model_name": "LayoutModel",
            "_view_count": null,
            "_view_module": "@jupyter-widgets/base",
            "_view_module_version": "1.2.0",
            "_view_name": "LayoutView",
            "align_content": null,
            "align_items": null,
            "align_self": null,
            "border": null,
            "bottom": null,
            "display": null,
            "flex": null,
            "flex_flow": null,
            "grid_area": null,
            "grid_auto_columns": null,
            "grid_auto_flow": null,
            "grid_auto_rows": null,
            "grid_column": null,
            "grid_gap": null,
            "grid_row": null,
            "grid_template_areas": null,
            "grid_template_columns": null,
            "grid_template_rows": null,
            "height": null,
            "justify_content": null,
            "justify_items": null,
            "left": null,
            "margin": null,
            "max_height": null,
            "max_width": null,
            "min_height": null,
            "min_width": null,
            "object_fit": null,
            "object_position": null,
            "order": null,
            "overflow": null,
            "overflow_x": null,
            "overflow_y": null,
            "padding": null,
            "right": null,
            "top": null,
            "visibility": null,
            "width": null
          }
        },
        "fe8028de09ee4314b9a5d90de1731ba6": {
          "model_module": "@jupyter-widgets/controls",
          "model_name": "DescriptionStyleModel",
          "state": {
            "_model_module": "@jupyter-widgets/controls",
            "_model_module_version": "1.5.0",
            "_model_name": "DescriptionStyleModel",
            "_view_count": null,
            "_view_module": "@jupyter-widgets/base",
            "_view_module_version": "1.2.0",
            "_view_name": "StyleView",
            "description_width": ""
          }
        },
        "decfef04e45747279cb8a93802cca8a6": {
          "model_module": "@jupyter-widgets/base",
          "model_name": "LayoutModel",
          "state": {
            "_model_module": "@jupyter-widgets/base",
            "_model_module_version": "1.2.0",
            "_model_name": "LayoutModel",
            "_view_count": null,
            "_view_module": "@jupyter-widgets/base",
            "_view_module_version": "1.2.0",
            "_view_name": "LayoutView",
            "align_content": null,
            "align_items": null,
            "align_self": null,
            "border": null,
            "bottom": null,
            "display": null,
            "flex": null,
            "flex_flow": null,
            "grid_area": null,
            "grid_auto_columns": null,
            "grid_auto_flow": null,
            "grid_auto_rows": null,
            "grid_column": null,
            "grid_gap": null,
            "grid_row": null,
            "grid_template_areas": null,
            "grid_template_columns": null,
            "grid_template_rows": null,
            "height": null,
            "justify_content": null,
            "justify_items": null,
            "left": null,
            "margin": null,
            "max_height": null,
            "max_width": null,
            "min_height": null,
            "min_width": null,
            "object_fit": null,
            "object_position": null,
            "order": null,
            "overflow": null,
            "overflow_x": null,
            "overflow_y": null,
            "padding": null,
            "right": null,
            "top": null,
            "visibility": null,
            "width": null
          }
        },
        "1bf2f63203f949cfa34264230523bbf9": {
          "model_module": "@jupyter-widgets/controls",
          "model_name": "ProgressStyleModel",
          "state": {
            "_model_module": "@jupyter-widgets/controls",
            "_model_module_version": "1.5.0",
            "_model_name": "ProgressStyleModel",
            "_view_count": null,
            "_view_module": "@jupyter-widgets/base",
            "_view_module_version": "1.2.0",
            "_view_name": "StyleView",
            "bar_color": null,
            "description_width": ""
          }
        },
        "5b14f40881cc4a9abe237fb84dca644d": {
          "model_module": "@jupyter-widgets/controls",
          "model_name": "VBoxModel",
          "state": {
            "_dom_classes": [],
            "_model_module": "@jupyter-widgets/controls",
            "_model_module_version": "1.5.0",
            "_model_name": "VBoxModel",
            "_view_count": null,
            "_view_module": "@jupyter-widgets/controls",
            "_view_module_version": "1.5.0",
            "_view_name": "VBoxView",
            "box_style": "",
            "children": [
              "IPY_MODEL_10a725631e214a03843d8e1fd4b6543e",
              "IPY_MODEL_d7946710b0894c2da062b4cfef99c6c2"
            ],
            "layout": "IPY_MODEL_94cad8c2dff04be091a55b97b2dac3f9"
          }
        },
        "10a725631e214a03843d8e1fd4b6543e": {
          "model_module": "@jupyter-widgets/controls",
          "model_name": "LabelModel",
          "state": {
            "_dom_classes": [],
            "_model_module": "@jupyter-widgets/controls",
            "_model_module_version": "1.5.0",
            "_model_name": "LabelModel",
            "_view_count": null,
            "_view_module": "@jupyter-widgets/controls",
            "_view_module_version": "1.5.0",
            "_view_name": "LabelView",
            "description": "",
            "description_tooltip": null,
            "layout": "IPY_MODEL_fc52a69fafb141c2a460536b5895ba8f",
            "placeholder": "​",
            "style": "IPY_MODEL_6d75351ec0534551b4d943f47a2897f0",
            "value": " 0.01MB of 0.01MB uploaded (0.00MB deduped)\r"
          }
        },
        "d7946710b0894c2da062b4cfef99c6c2": {
          "model_module": "@jupyter-widgets/controls",
          "model_name": "FloatProgressModel",
          "state": {
            "_dom_classes": [],
            "_model_module": "@jupyter-widgets/controls",
            "_model_module_version": "1.5.0",
            "_model_name": "FloatProgressModel",
            "_view_count": null,
            "_view_module": "@jupyter-widgets/controls",
            "_view_module_version": "1.5.0",
            "_view_name": "ProgressView",
            "bar_style": "",
            "description": "",
            "description_tooltip": null,
            "layout": "IPY_MODEL_bd0f72d087214aa3b6af156c900efda9",
            "max": 1,
            "min": 0,
            "orientation": "horizontal",
            "style": "IPY_MODEL_45161c93c9f74383aee78a7c33e33c03",
            "value": 1
          }
        },
        "94cad8c2dff04be091a55b97b2dac3f9": {
          "model_module": "@jupyter-widgets/base",
          "model_name": "LayoutModel",
          "state": {
            "_model_module": "@jupyter-widgets/base",
            "_model_module_version": "1.2.0",
            "_model_name": "LayoutModel",
            "_view_count": null,
            "_view_module": "@jupyter-widgets/base",
            "_view_module_version": "1.2.0",
            "_view_name": "LayoutView",
            "align_content": null,
            "align_items": null,
            "align_self": null,
            "border": null,
            "bottom": null,
            "display": null,
            "flex": null,
            "flex_flow": null,
            "grid_area": null,
            "grid_auto_columns": null,
            "grid_auto_flow": null,
            "grid_auto_rows": null,
            "grid_column": null,
            "grid_gap": null,
            "grid_row": null,
            "grid_template_areas": null,
            "grid_template_columns": null,
            "grid_template_rows": null,
            "height": null,
            "justify_content": null,
            "justify_items": null,
            "left": null,
            "margin": null,
            "max_height": null,
            "max_width": null,
            "min_height": null,
            "min_width": null,
            "object_fit": null,
            "object_position": null,
            "order": null,
            "overflow": null,
            "overflow_x": null,
            "overflow_y": null,
            "padding": null,
            "right": null,
            "top": null,
            "visibility": null,
            "width": null
          }
        },
        "fc52a69fafb141c2a460536b5895ba8f": {
          "model_module": "@jupyter-widgets/base",
          "model_name": "LayoutModel",
          "state": {
            "_model_module": "@jupyter-widgets/base",
            "_model_module_version": "1.2.0",
            "_model_name": "LayoutModel",
            "_view_count": null,
            "_view_module": "@jupyter-widgets/base",
            "_view_module_version": "1.2.0",
            "_view_name": "LayoutView",
            "align_content": null,
            "align_items": null,
            "align_self": null,
            "border": null,
            "bottom": null,
            "display": null,
            "flex": null,
            "flex_flow": null,
            "grid_area": null,
            "grid_auto_columns": null,
            "grid_auto_flow": null,
            "grid_auto_rows": null,
            "grid_column": null,
            "grid_gap": null,
            "grid_row": null,
            "grid_template_areas": null,
            "grid_template_columns": null,
            "grid_template_rows": null,
            "height": null,
            "justify_content": null,
            "justify_items": null,
            "left": null,
            "margin": null,
            "max_height": null,
            "max_width": null,
            "min_height": null,
            "min_width": null,
            "object_fit": null,
            "object_position": null,
            "order": null,
            "overflow": null,
            "overflow_x": null,
            "overflow_y": null,
            "padding": null,
            "right": null,
            "top": null,
            "visibility": null,
            "width": null
          }
        },
        "6d75351ec0534551b4d943f47a2897f0": {
          "model_module": "@jupyter-widgets/controls",
          "model_name": "DescriptionStyleModel",
          "state": {
            "_model_module": "@jupyter-widgets/controls",
            "_model_module_version": "1.5.0",
            "_model_name": "DescriptionStyleModel",
            "_view_count": null,
            "_view_module": "@jupyter-widgets/base",
            "_view_module_version": "1.2.0",
            "_view_name": "StyleView",
            "description_width": ""
          }
        },
        "bd0f72d087214aa3b6af156c900efda9": {
          "model_module": "@jupyter-widgets/base",
          "model_name": "LayoutModel",
          "state": {
            "_model_module": "@jupyter-widgets/base",
            "_model_module_version": "1.2.0",
            "_model_name": "LayoutModel",
            "_view_count": null,
            "_view_module": "@jupyter-widgets/base",
            "_view_module_version": "1.2.0",
            "_view_name": "LayoutView",
            "align_content": null,
            "align_items": null,
            "align_self": null,
            "border": null,
            "bottom": null,
            "display": null,
            "flex": null,
            "flex_flow": null,
            "grid_area": null,
            "grid_auto_columns": null,
            "grid_auto_flow": null,
            "grid_auto_rows": null,
            "grid_column": null,
            "grid_gap": null,
            "grid_row": null,
            "grid_template_areas": null,
            "grid_template_columns": null,
            "grid_template_rows": null,
            "height": null,
            "justify_content": null,
            "justify_items": null,
            "left": null,
            "margin": null,
            "max_height": null,
            "max_width": null,
            "min_height": null,
            "min_width": null,
            "object_fit": null,
            "object_position": null,
            "order": null,
            "overflow": null,
            "overflow_x": null,
            "overflow_y": null,
            "padding": null,
            "right": null,
            "top": null,
            "visibility": null,
            "width": null
          }
        },
        "45161c93c9f74383aee78a7c33e33c03": {
          "model_module": "@jupyter-widgets/controls",
          "model_name": "ProgressStyleModel",
          "state": {
            "_model_module": "@jupyter-widgets/controls",
            "_model_module_version": "1.5.0",
            "_model_name": "ProgressStyleModel",
            "_view_count": null,
            "_view_module": "@jupyter-widgets/base",
            "_view_module_version": "1.2.0",
            "_view_name": "StyleView",
            "bar_color": null,
            "description_width": ""
          }
        },
        "1d9ec9f5129e4fa8b4499063ee56b4a9": {
          "model_module": "@jupyter-widgets/controls",
          "model_name": "VBoxModel",
          "state": {
            "_view_name": "VBoxView",
            "_dom_classes": [],
            "_model_name": "VBoxModel",
            "_view_module": "@jupyter-widgets/controls",
            "_model_module_version": "1.5.0",
            "_view_count": null,
            "_view_module_version": "1.5.0",
            "box_style": "",
            "layout": "IPY_MODEL_6b5e07cd69894cf9ba3918caa7a77e6c",
            "_model_module": "@jupyter-widgets/controls",
            "children": [
              "IPY_MODEL_dc44b419133142ef84780ddbe9323a19",
              "IPY_MODEL_2c9e6965957f4c089c143aa69877a066"
            ]
          }
        },
        "6b5e07cd69894cf9ba3918caa7a77e6c": {
          "model_module": "@jupyter-widgets/base",
          "model_name": "LayoutModel",
          "state": {
            "_view_name": "LayoutView",
            "grid_template_rows": null,
            "right": null,
            "justify_content": null,
            "_view_module": "@jupyter-widgets/base",
            "overflow": null,
            "_model_module_version": "1.2.0",
            "_view_count": null,
            "flex_flow": null,
            "width": null,
            "min_width": null,
            "border": null,
            "align_items": null,
            "bottom": null,
            "_model_module": "@jupyter-widgets/base",
            "top": null,
            "grid_column": null,
            "overflow_y": null,
            "overflow_x": null,
            "grid_auto_flow": null,
            "grid_area": null,
            "grid_template_columns": null,
            "flex": null,
            "_model_name": "LayoutModel",
            "justify_items": null,
            "grid_row": null,
            "max_height": null,
            "align_content": null,
            "visibility": null,
            "align_self": null,
            "height": null,
            "min_height": null,
            "padding": null,
            "grid_auto_rows": null,
            "grid_gap": null,
            "max_width": null,
            "order": null,
            "_view_module_version": "1.2.0",
            "grid_template_areas": null,
            "object_position": null,
            "object_fit": null,
            "grid_auto_columns": null,
            "margin": null,
            "display": null,
            "left": null
          }
        },
        "dc44b419133142ef84780ddbe9323a19": {
          "model_module": "@jupyter-widgets/controls",
          "model_name": "LabelModel",
          "state": {
            "_view_name": "LabelView",
            "style": "IPY_MODEL_4ff161a7325f4920ae480454984684d4",
            "_dom_classes": [],
            "description": "",
            "_model_name": "LabelModel",
            "placeholder": "​",
            "_view_module": "@jupyter-widgets/controls",
            "_model_module_version": "1.5.0",
            "value": " 0.07MB of 0.07MB uploaded (0.00MB deduped)\r",
            "_view_count": null,
            "_view_module_version": "1.5.0",
            "description_tooltip": null,
            "_model_module": "@jupyter-widgets/controls",
            "layout": "IPY_MODEL_c37c755f10ad43db800af7be2bc634c9"
          }
        },
        "2c9e6965957f4c089c143aa69877a066": {
          "model_module": "@jupyter-widgets/controls",
          "model_name": "FloatProgressModel",
          "state": {
            "_view_name": "ProgressView",
            "style": "IPY_MODEL_dab288e34b0c4796ba9abbcb11bd579f",
            "_dom_classes": [],
            "description": "",
            "_model_name": "FloatProgressModel",
            "bar_style": "",
            "max": 1,
            "_view_module": "@jupyter-widgets/controls",
            "_model_module_version": "1.5.0",
            "value": 1,
            "_view_count": null,
            "_view_module_version": "1.5.0",
            "orientation": "horizontal",
            "min": 0,
            "description_tooltip": null,
            "_model_module": "@jupyter-widgets/controls",
            "layout": "IPY_MODEL_aadbb0be33834c609aab5514ae0f3bd0"
          }
        },
        "4ff161a7325f4920ae480454984684d4": {
          "model_module": "@jupyter-widgets/controls",
          "model_name": "DescriptionStyleModel",
          "state": {
            "_view_name": "StyleView",
            "_model_name": "DescriptionStyleModel",
            "description_width": "",
            "_view_module": "@jupyter-widgets/base",
            "_model_module_version": "1.5.0",
            "_view_count": null,
            "_view_module_version": "1.2.0",
            "_model_module": "@jupyter-widgets/controls"
          }
        },
        "c37c755f10ad43db800af7be2bc634c9": {
          "model_module": "@jupyter-widgets/base",
          "model_name": "LayoutModel",
          "state": {
            "_view_name": "LayoutView",
            "grid_template_rows": null,
            "right": null,
            "justify_content": null,
            "_view_module": "@jupyter-widgets/base",
            "overflow": null,
            "_model_module_version": "1.2.0",
            "_view_count": null,
            "flex_flow": null,
            "width": null,
            "min_width": null,
            "border": null,
            "align_items": null,
            "bottom": null,
            "_model_module": "@jupyter-widgets/base",
            "top": null,
            "grid_column": null,
            "overflow_y": null,
            "overflow_x": null,
            "grid_auto_flow": null,
            "grid_area": null,
            "grid_template_columns": null,
            "flex": null,
            "_model_name": "LayoutModel",
            "justify_items": null,
            "grid_row": null,
            "max_height": null,
            "align_content": null,
            "visibility": null,
            "align_self": null,
            "height": null,
            "min_height": null,
            "padding": null,
            "grid_auto_rows": null,
            "grid_gap": null,
            "max_width": null,
            "order": null,
            "_view_module_version": "1.2.0",
            "grid_template_areas": null,
            "object_position": null,
            "object_fit": null,
            "grid_auto_columns": null,
            "margin": null,
            "display": null,
            "left": null
          }
        },
        "dab288e34b0c4796ba9abbcb11bd579f": {
          "model_module": "@jupyter-widgets/controls",
          "model_name": "ProgressStyleModel",
          "state": {
            "_view_name": "StyleView",
            "_model_name": "ProgressStyleModel",
            "description_width": "",
            "_view_module": "@jupyter-widgets/base",
            "_model_module_version": "1.5.0",
            "_view_count": null,
            "_view_module_version": "1.2.0",
            "bar_color": null,
            "_model_module": "@jupyter-widgets/controls"
          }
        },
        "aadbb0be33834c609aab5514ae0f3bd0": {
          "model_module": "@jupyter-widgets/base",
          "model_name": "LayoutModel",
          "state": {
            "_view_name": "LayoutView",
            "grid_template_rows": null,
            "right": null,
            "justify_content": null,
            "_view_module": "@jupyter-widgets/base",
            "overflow": null,
            "_model_module_version": "1.2.0",
            "_view_count": null,
            "flex_flow": null,
            "width": null,
            "min_width": null,
            "border": null,
            "align_items": null,
            "bottom": null,
            "_model_module": "@jupyter-widgets/base",
            "top": null,
            "grid_column": null,
            "overflow_y": null,
            "overflow_x": null,
            "grid_auto_flow": null,
            "grid_area": null,
            "grid_template_columns": null,
            "flex": null,
            "_model_name": "LayoutModel",
            "justify_items": null,
            "grid_row": null,
            "max_height": null,
            "align_content": null,
            "visibility": null,
            "align_self": null,
            "height": null,
            "min_height": null,
            "padding": null,
            "grid_auto_rows": null,
            "grid_gap": null,
            "max_width": null,
            "order": null,
            "_view_module_version": "1.2.0",
            "grid_template_areas": null,
            "object_position": null,
            "object_fit": null,
            "grid_auto_columns": null,
            "margin": null,
            "display": null,
            "left": null
          }
        }
      }
    }
  },
  "cells": [
    {
      "cell_type": "code",
      "metadata": {
        "id": "xVjuXsr1zLu2"
      },
      "source": [
        "#import the dataset \n",
        "from keras.datasets import fashion_mnist\n",
        "%pip install wandb -q\n",
        "import wandb\n",
        "from sklearn.metrics import confusion_matrix\n",
        "import seaborn as sns \n",
        "import matplotlib.pyplot as plt"
      ],
      "execution_count": null,
      "outputs": []
    },
    {
      "cell_type": "code",
      "metadata": {
        "id": "6Km9Y4J49Rqg"
      },
      "source": [
        "sweep_config = {\n",
        "    'method': 'bayes', #grid, random\n",
        "    'metric': {\n",
        "      'name': 'accuracy',\n",
        "      'goal': 'maximize'   \n",
        "    },\n",
        "    'parameters': {\n",
        "        'epochs': {\n",
        "            'values': [5,10]\n",
        "        },\n",
        "        'hidden_layers': {\n",
        "            'values': [3,4,5]\n",
        "        },\n",
        "        'size_layer': {\n",
        "            'values': [32, 64, 128]\n",
        "        },\n",
        "        #'weight decay': {\n",
        "         #   'values': [0,0.0005, 0.5]\n",
        "        #},\n",
        "        'learning_rate': {\n",
        "            'values': [ 1e-3, 1e-4]\n",
        "        },\n",
        "        'optimizer': {\n",
        "            'values': ['nadam','vanilla','momentum','rmsprop']\n",
        "        },\n",
        "        'batch_size':{\n",
        "            'values': [16,32,64]\n",
        "        },\n",
        "        #'weight_init':{\n",
        "         #   'values': ['random','xavier']\n",
        "        #},\n",
        "        'activation': {\n",
        "            'values': ['tanh','sigmoid', 'ReLU']\n",
        "        }\n",
        "    }\n",
        "}"
      ],
      "execution_count": null,
      "outputs": []
    },
    {
      "cell_type": "code",
      "metadata": {
        "id": "OQLWjHat0lV4"
      },
      "source": [
        "#import the required libraries \n",
        "from matplotlib import pyplot\n",
        "import numpy as np"
      ],
      "execution_count": null,
      "outputs": []
    },
    {
      "cell_type": "code",
      "metadata": {
        "id": "rP17UY7v0C7w"
      },
      "source": [
        "#load the data into train and test \n",
        "(X_trainval,y_trainval),(X_test,y_test)=fashion_mnist.load_data()\n",
        "#pyplot.imshow(X_train[2])\n",
        "indices = np.random.permutation(X_trainval.shape[0])\n",
        "training_idx= indices[:54000]\n",
        "validation_idx = indices[54000:]\n",
        "#print(validation_idx)\n",
        "X_train, X_val = X_trainval[training_idx,:,:], X_trainval[validation_idx,:,:]\n",
        "y_train,y_val=y_trainval[training_idx],y_trainval[validation_idx]"
      ],
      "execution_count": null,
      "outputs": []
    },
    {
      "cell_type": "code",
      "metadata": {
        "colab": {
          "base_uri": "https://localhost:8080/"
        },
        "id": "z27sdlQmMH1O",
        "outputId": "f30eba48-9340-4801-ea11-04261ded706b"
      },
      "source": [
        "noOfImages = X_train.shape[0]\n",
        "print(noOfImages)\n",
        "X_train = (1.0/255)*np.array([X_train[i].flatten() for i in range(0,X_train.shape[0])])\n",
        "#X_train = np.array([X_train[i].flatten() for i in range(0,noOfImages)])\n",
        "print(X_train.shape)\n",
        "X_test =(1.0/255)*np.array([X_test[i].flatten() for i in range(0,X_test.shape[0])])\n",
        "X_val =(1.0/255)*np.array([X_val[i].flatten() for i in range(0,X_val.shape[0])])\n",
        "\n",
        "print(X_test.shape)\n",
        "print(X_train.shape)\n",
        "print(X_val.shape)\n"
      ],
      "execution_count": null,
      "outputs": [
        {
          "output_type": "stream",
          "text": [
            "54000\n",
            "(54000, 784)\n",
            "(10000, 784)\n",
            "(54000, 784)\n",
            "(6000, 784)\n"
          ],
          "name": "stdout"
        }
      ]
    },
    {
      "cell_type": "code",
      "metadata": {
        "colab": {
          "base_uri": "https://localhost:8080/"
        },
        "id": "RtQEmgi3Opy_",
        "outputId": "3f9b30f9-47a1-41b0-ef87-2d4b80d46112"
      },
      "source": [
        "print(X_train[0])"
      ],
      "execution_count": null,
      "outputs": [
        {
          "output_type": "stream",
          "text": [
            "[0.         0.         0.         0.00392157 0.         0.00392157\n",
            " 0.         0.         0.         0.         0.17647059 0.63529412\n",
            " 0.45490196 0.45098039 0.44705882 0.47058824 0.64313725 0.30980392\n",
            " 0.         0.         0.         0.         0.         0.00392157\n",
            " 0.         0.         0.         0.         0.         0.\n",
            " 0.         0.         0.         0.         0.         0.19215686\n",
            " 0.59607843 0.91764706 0.88627451 0.96862745 0.97647059 0.96470588\n",
            " 1.         0.96078431 0.9254902  0.91372549 0.98823529 0.64313725\n",
            " 0.25098039 0.         0.         0.         0.         0.\n",
            " 0.         0.         0.         0.         0.         0.\n",
            " 0.         0.42352941 0.78823529 0.90588235 0.91764706 0.87843137\n",
            " 0.85490196 0.85490196 0.86666667 0.77254902 0.80784314 0.85882353\n",
            " 0.84705882 0.87058824 0.88627451 0.9372549  0.92941176 0.83529412\n",
            " 0.43137255 0.         0.         0.         0.         0.\n",
            " 0.         0.         0.         0.         0.34117647 0.95686275\n",
            " 0.8627451  0.84705882 0.83921569 0.85098039 0.8745098  0.8627451\n",
            " 0.86666667 0.88627451 0.87843137 0.8745098  0.87843137 0.87058824\n",
            " 0.8745098  0.85882353 0.85490196 0.87843137 0.95294118 0.39607843\n",
            " 0.         0.         0.         0.         0.         0.\n",
            " 0.         0.         0.88627451 0.8627451  0.83529412 0.85490196\n",
            " 0.8627451  0.8627451  0.85882353 0.85882353 0.85882353 0.85490196\n",
            " 0.85882353 0.86666667 0.8627451  0.87058824 0.86666667 0.87058824\n",
            " 0.87058824 0.84313725 0.87058824 0.91372549 0.         0.\n",
            " 0.         0.         0.         0.         0.         0.\n",
            " 0.84705882 0.83137255 0.84705882 0.85098039 0.85098039 0.85490196\n",
            " 0.85882353 0.85490196 0.85882353 0.85098039 0.84705882 0.85098039\n",
            " 0.85490196 0.8627451  0.8627451  0.8627451  0.85882353 0.85882353\n",
            " 0.83529412 0.87843137 0.10196078 0.         0.         0.\n",
            " 0.         0.         0.         0.19607843 0.99215686 0.84705882\n",
            " 0.84313725 0.84313725 0.84705882 0.85098039 0.85490196 0.85490196\n",
            " 0.85490196 0.85098039 0.85098039 0.85490196 0.85490196 0.85882353\n",
            " 0.85882353 0.85882353 0.8627451  0.84313725 0.84705882 0.90588235\n",
            " 0.30980392 0.         0.         0.         0.         0.\n",
            " 0.         0.36862745 0.99607843 0.84705882 0.85490196 0.83529412\n",
            " 0.83921569 0.84705882 0.85490196 0.85490196 0.85490196 0.85098039\n",
            " 0.85098039 0.85098039 0.85490196 0.85490196 0.85098039 0.85098039\n",
            " 0.83921569 0.8627451  0.87058824 0.98823529 0.4627451  0.\n",
            " 0.         0.         0.         0.         0.         0.53333333\n",
            " 0.88627451 0.84313725 0.8745098  0.84313725 0.83137255 0.83529412\n",
            " 0.84705882 0.84313725 0.84313725 0.84705882 0.83921569 0.83921569\n",
            " 0.84313725 0.85098039 0.85490196 0.85098039 0.84313725 0.88627451\n",
            " 0.85490196 0.88627451 0.61960784 0.         0.         0.\n",
            " 0.         0.         0.         0.72156863 0.83529412 0.83921569\n",
            " 0.86666667 0.83921569 0.83137255 0.83529412 0.83529412 0.83529412\n",
            " 0.83529412 0.83529412 0.83137255 0.82745098 0.83529412 0.84705882\n",
            " 0.85098039 0.85882353 0.83921569 0.86666667 0.83529412 0.85490196\n",
            " 0.78431373 0.         0.         0.         0.         0.\n",
            " 0.         0.87058824 0.89803922 0.8745098  0.90980392 0.85098039\n",
            " 0.83529412 0.85098039 0.83921569 0.83921569 0.83921569 0.83921569\n",
            " 0.83137255 0.83137255 0.83921569 0.84705882 0.85098039 0.8627451\n",
            " 0.85490196 0.9254902  0.90196078 0.8745098  0.83137255 0.\n",
            " 0.         0.         0.         0.         0.         0.33333333\n",
            " 0.59607843 0.8        0.83137255 0.8627451  0.84313725 0.84313725\n",
            " 0.83529412 0.83921569 0.83921569 0.83921569 0.83529412 0.83529412\n",
            " 0.83921569 0.83921569 0.8627451  0.85098039 0.90196078 0.5254902\n",
            " 0.1372549  0.06666667 0.         0.         0.         0.\n",
            " 0.         0.         0.         0.         0.         0.\n",
            " 0.         0.74117647 0.88235294 0.81960784 0.83137255 0.83921569\n",
            " 0.83921569 0.83921569 0.83529412 0.83529412 0.83921569 0.83529412\n",
            " 0.87058824 0.84705882 0.9254902  0.13333333 0.         0.\n",
            " 0.         0.         0.         0.         0.         0.\n",
            " 0.         0.00784314 0.00392157 0.         0.         0.76078431\n",
            " 0.88235294 0.83529412 0.83529412 0.83921569 0.83921569 0.84313725\n",
            " 0.83921569 0.83921569 0.84313725 0.83921569 0.8745098  0.84705882\n",
            " 0.90196078 0.23529412 0.         0.02352941 0.00784314 0.\n",
            " 0.         0.         0.         0.         0.         0.\n",
            " 0.         0.         0.         0.65882353 0.89411765 0.82352941\n",
            " 0.84313725 0.83921569 0.83529412 0.84313725 0.83921569 0.83529412\n",
            " 0.83921569 0.83921569 0.87843137 0.85098039 0.88627451 0.18039216\n",
            " 0.         0.00784314 0.         0.         0.         0.\n",
            " 0.         0.         0.         0.         0.         0.\n",
            " 0.         0.59607843 0.90588235 0.82352941 0.84705882 0.84313725\n",
            " 0.83529412 0.85098039 0.84705882 0.82745098 0.83529412 0.84313725\n",
            " 0.8745098  0.85882353 0.89019608 0.1372549  0.         0.02352941\n",
            " 0.         0.         0.         0.         0.         0.\n",
            " 0.         0.         0.         0.00392157 0.         0.54509804\n",
            " 0.90588235 0.81568627 0.84705882 0.84313725 0.83529412 0.85098039\n",
            " 0.85098039 0.83137255 0.83921569 0.84705882 0.86666667 0.85882353\n",
            " 0.88235294 0.11372549 0.         0.02352941 0.         0.\n",
            " 0.         0.         0.         0.         0.         0.\n",
            " 0.         0.00784314 0.         0.48627451 0.90980392 0.81176471\n",
            " 0.84705882 0.84313725 0.83529412 0.85098039 0.85490196 0.83529412\n",
            " 0.84313725 0.85098039 0.85882353 0.85882353 0.8745098  0.08627451\n",
            " 0.         0.01960784 0.         0.         0.         0.\n",
            " 0.         0.         0.         0.         0.         0.01568627\n",
            " 0.         0.43137255 0.90588235 0.81176471 0.85098039 0.83529412\n",
            " 0.83529412 0.85490196 0.85490196 0.83529412 0.84705882 0.85490196\n",
            " 0.85490196 0.85882353 0.87058824 0.0627451  0.         0.01960784\n",
            " 0.         0.         0.         0.         0.         0.\n",
            " 0.         0.         0.         0.01568627 0.         0.40784314\n",
            " 0.90196078 0.81568627 0.85098039 0.82745098 0.83529412 0.85490196\n",
            " 0.85098039 0.83529412 0.85098039 0.85882353 0.85490196 0.85882353\n",
            " 0.87058824 0.05490196 0.         0.01960784 0.         0.\n",
            " 0.         0.         0.         0.         0.         0.\n",
            " 0.         0.01568627 0.         0.40392157 0.89803922 0.81960784\n",
            " 0.85098039 0.82745098 0.83529412 0.85882353 0.85490196 0.83921569\n",
            " 0.85098039 0.85882353 0.85882353 0.8627451  0.87058824 0.05882353\n",
            " 0.         0.01960784 0.         0.         0.         0.\n",
            " 0.         0.         0.         0.         0.         0.01568627\n",
            " 0.         0.39607843 0.89411765 0.82352941 0.85098039 0.82745098\n",
            " 0.83529412 0.85882353 0.85882353 0.84313725 0.85490196 0.8627451\n",
            " 0.8627451  0.86666667 0.8745098  0.05882353 0.         0.01960784\n",
            " 0.         0.         0.         0.         0.         0.\n",
            " 0.         0.         0.         0.01568627 0.         0.33333333\n",
            " 0.89019608 0.82745098 0.84313725 0.83921569 0.84313725 0.8627451\n",
            " 0.85882353 0.83921569 0.8627451  0.85490196 0.86666667 0.86666667\n",
            " 0.85882353 0.01176471 0.         0.01176471 0.         0.\n",
            " 0.         0.         0.         0.         0.         0.\n",
            " 0.         0.01176471 0.         0.29019608 0.88235294 0.83529412\n",
            " 0.84705882 0.84313725 0.84705882 0.8627451  0.85882353 0.83921569\n",
            " 0.8627451  0.85490196 0.86666667 0.86666667 0.84705882 0.\n",
            " 0.         0.01176471 0.         0.         0.         0.\n",
            " 0.         0.         0.         0.         0.         0.02352941\n",
            " 0.         0.24705882 0.87058824 0.83921569 0.85490196 0.85098039\n",
            " 0.85490196 0.87058824 0.8627451  0.84705882 0.86666667 0.85490196\n",
            " 0.86666667 0.87058824 0.83529412 0.         0.         0.01176471\n",
            " 0.         0.         0.         0.         0.         0.\n",
            " 0.         0.         0.         0.01960784 0.         0.20392157\n",
            " 0.85490196 0.83137255 0.85098039 0.84313725 0.85490196 0.85490196\n",
            " 0.84705882 0.83921569 0.85490196 0.83921569 0.85882353 0.85882353\n",
            " 0.82352941 0.         0.         0.01568627 0.         0.\n",
            " 0.         0.         0.         0.         0.         0.\n",
            " 0.         0.01960784 0.         0.12941176 0.89019608 0.87058824\n",
            " 0.8745098  0.91372549 0.90588235 0.91764706 0.92156863 0.92156863\n",
            " 0.92156863 0.94117647 0.91372549 0.9372549  0.8745098  0.\n",
            " 0.         0.01176471 0.         0.         0.         0.\n",
            " 0.         0.         0.         0.         0.         0.00392157\n",
            " 0.         0.         0.49019608 0.66666667 0.68235294 0.70980392\n",
            " 0.74901961 0.76862745 0.75686275 0.71764706 0.69411765 0.64705882\n",
            " 0.59607843 0.54901961 0.33333333 0.         0.         0.\n",
            " 0.         0.         0.         0.        ]\n"
          ],
          "name": "stdout"
        }
      ]
    },
    {
      "cell_type": "code",
      "metadata": {
        "colab": {
          "base_uri": "https://localhost:8080/"
        },
        "id": "WnJHWPgMiiLw",
        "outputId": "42089e8f-0148-4cc1-f1d3-cc0d351deaf4"
      },
      "source": [
        "\n",
        "l=10 #output classes\n",
        "noOfneuronsEach=[120,20]\n",
        "noOfHiddenLayers=len(noOfneuronsEach)\n",
        "inputNeuronSize=X_train.shape[1]\n",
        "print(inputNeuronSize)\n",
        "parameters={}\n",
        "batchSize=600\n",
        "activate=\"sigmoid\"\n",
        "iterations=10\n",
        "eta=1\n",
        "#eta=0.001   #for rmsprop higher learning rate gradients explode causing overflow\n",
        "#eta=0.002 #Nadam\n",
        "#input W\n",
        "#initialization\n",
        "parameters['W'+str(1)] =np.random.uniform(low=-0.5,high=0.5,size=(noOfneuronsEach[0], inputNeuronSize))\n",
        "parameters['b'+str(1)]= np.random.uniform(low=-0.5,high=0.5,size=(noOfneuronsEach[0],1))\n",
        "#parameters['W'+str(1)] =0+1.5*np.random.randn(noOfneuronsEach[0], inputNeuronSize)\n",
        "#parameters['b'+str(1)]= 0+1.5*np.random.randn(noOfneuronsEach[0],1)\n",
        "for i in range(2,noOfHiddenLayers+1):\n",
        "  parameters['W'+str(i)] = np.random.uniform(low=-0.5,high=0.5,size=(noOfneuronsEach[i-1], noOfneuronsEach[i-2]))\n",
        "  parameters['b'+str(i)]= np.random.uniform(low=-0.5,high=0.5,size=(noOfneuronsEach[i-1],1))\n",
        "  #parameters['W'+str(i)] = 0+1.5*np.random.randn(noOfneuronsEach[i-1], noOfneuronsEach[i-2])\n",
        "  #parameters['b'+str(i)]= 0+1.5*np.random.randn(noOfneuronsEach[i-1],1)\n",
        "#Output W\n",
        "parameters['W'+str(noOfHiddenLayers+1)] = np.random.uniform(low=-0.5,high=0.5,size=(l, noOfneuronsEach[-1]))\n",
        "parameters['b'+str(noOfHiddenLayers+1)]= np.random.uniform(low=-0.5,high=0.5,size=(l,1))\n",
        "#parameters['W'+str(noOfHiddenLayers+1)] = 0+1.5*np.random.randn(l, noOfneuronsEach[-1])\n",
        "#parameters['b'+str(noOfHiddenLayers+1)]= 0+1.5*np.random.randn(l,1)\n"
      ],
      "execution_count": null,
      "outputs": [
        {
          "output_type": "stream",
          "text": [
            "784\n"
          ],
          "name": "stdout"
        }
      ]
    },
    {
      "cell_type": "code",
      "metadata": {
        "id": "GFA10HAHKCb8"
      },
      "source": [
        "def softmax(X):\n",
        "  X=np.exp(X)\n",
        "  sum=np.sum(X,axis=0)\n",
        "  return X/sum \n"
      ],
      "execution_count": null,
      "outputs": []
    },
    {
      "cell_type": "code",
      "metadata": {
        "id": "4ZgtMpEAUkIA"
      },
      "source": [
        "def sigmoidFunc(X):\n",
        "\n",
        "  return 1.0/(1.0+np.exp(-X))\n",
        "  #return res"
      ],
      "execution_count": null,
      "outputs": []
    },
    {
      "cell_type": "code",
      "metadata": {
        "id": "5GJHo_F55wKD"
      },
      "source": [
        "def sigmoidDash(X):\n",
        "  return sigmoidFunc(X)*(1-sigmoidFunc(X))"
      ],
      "execution_count": null,
      "outputs": []
    },
    {
      "cell_type": "code",
      "metadata": {
        "id": "1Vm9JVRJ49EB"
      },
      "source": [
        "def tanhFunc(X):\n",
        "  return ((np.exp(X)-np.exp(-X))/(np.exp(X)+np.exp(-X)))"
      ],
      "execution_count": null,
      "outputs": []
    },
    {
      "cell_type": "code",
      "metadata": {
        "id": "UnBLyfN_5SVA"
      },
      "source": [
        "def tanhDash(X):\n",
        "  return (1-(tanhFunc(X)**2))"
      ],
      "execution_count": null,
      "outputs": []
    },
    {
      "cell_type": "code",
      "metadata": {
        "id": "gwWt5uKh5dsU"
      },
      "source": [
        "def reluFunc(X): \n",
        "  return X*(X>0.0)"
      ],
      "execution_count": null,
      "outputs": []
    },
    {
      "cell_type": "code",
      "metadata": {
        "id": "LcB08_L07AIF"
      },
      "source": [
        "def reluDash(X):\n",
        "  X[X<= 0.0]=0.0\n",
        "  X[X>0.0]=1.0\n",
        "  return X"
      ],
      "execution_count": null,
      "outputs": []
    },
    {
      "cell_type": "code",
      "metadata": {
        "id": "1tSVgjSb7cLW"
      },
      "source": [
        "def gDash(X):\n",
        "  if activate=='sigmoid':\n",
        "    return sigmoidDash(X)\n",
        "  elif activate=='tanh':\n",
        "    return tanhDash(X)\n",
        "  elif activate=='ReLU':\n",
        "    return reluDash(X)"
      ],
      "execution_count": null,
      "outputs": []
    },
    {
      "cell_type": "code",
      "metadata": {
        "id": "584r3_5t4Nbj"
      },
      "source": [
        "def activationFunc(X):\n",
        "  if activate=='sigmoid':\n",
        "    return sigmoidFunc(X)\n",
        "  elif activate=='tanh':\n",
        "    return tanhFunc(X)\n",
        "  elif activate=='ReLU':\n",
        "    return reluFunc(X)"
      ],
      "execution_count": null,
      "outputs": []
    },
    {
      "cell_type": "code",
      "metadata": {
        "id": "pIfFadrLAkmM"
      },
      "source": [
        "def forwardPropagation(X,parameters):\n",
        "  preactivation={}\n",
        "  activation={}\n",
        "  activation['h0']=X.T\n",
        " \n",
        "  for k in range(1,noOfHiddenLayers+1):\n",
        "    preactivation['a'+str(k)]=np.dot(parameters['W'+str(k)],activation['h'+str(k-1)])+parameters['b'+str(k)]\n",
        "    activation['h'+str(k)]=activationFunc(preactivation['a'+str(k)])\n",
        " \n",
        "  preactivation['a'+str(noOfHiddenLayers+1)]=np.dot(parameters['W'+str(noOfHiddenLayers+1)],activation['h'+str(noOfHiddenLayers)])+parameters['b'+str(noOfHiddenLayers+1)]\n",
        "  y=softmax(preactivation['a'+str(noOfHiddenLayers+1)])    \n",
        "\n",
        "  return (preactivation,activation,y)\n",
        "\n"
      ],
      "execution_count": null,
      "outputs": []
    },
    {
      "cell_type": "code",
      "metadata": {
        "id": "vZFsUg0xrJtv"
      },
      "source": [
        "def backPropagation(parameters,activation,preactivation,yhat,X,y_train):\n",
        "  grads={}\n",
        "  eIndicator=np.zeros((10,X.shape[0]))\n",
        "  eIndicator[y_train,np.arange(X.shape[0])]=1\n",
        "  #cross entropy\n",
        "  grads['a'+str(noOfHiddenLayers+1)]= -(eIndicator-yhat)\n",
        "  #squared loss \n",
        "  #r=(yhat-eIndicator)*yhat\n",
        "  #for i in range(X.shape[0]):\n",
        "    #r[:,i]= np.dot((np.eye(10)-yhat[:,i]),r[:,i])\n",
        "  #yhatl=np.apply_along_axis(max,0,yhatl)\n",
        "  #square=np.apply_along_axis(sum,0,yhat-eIndicator)\n",
        "  #grads['a'+str(noOfHiddenLayers+1)]= 2*r\n",
        "  for j in range(noOfHiddenLayers+1,0,-1):\n",
        "    grads['W'+str(j)]= np.dot(grads['a'+str(j)],activation['h'+str(j-1)].T)\n",
        " \n",
        "    grads['b'+str(j)]= np.sum(grads['a'+str(j)],axis=1,keepdims=True)\n",
        "    \n",
        "    grads['h'+str(j-1)]=np.dot(parameters['W'+str(j)].T,grads['a'+str(j)])\n",
        "    \n",
        "    if (j!=1):\n",
        "      grads['a'+str(j-1)]=grads['h'+str(j-1)]*gDash(preactivation['a'+str(j-1)])\n",
        "  return grads\n"
      ],
      "execution_count": null,
      "outputs": []
    },
    {
      "cell_type": "code",
      "metadata": {
        "id": "EOAQcEpL2y7w"
      },
      "source": [
        "def squareLoss(yhat,y_train,X):\n",
        "  eIndicator=np.zeros((10,X.shape[0]))\n",
        "  eIndicator[y_train,np.arange(X.shape[0])]=1\n",
        "  return np.sum((yhat-eIndicator)**2)"
      ],
      "execution_count": null,
      "outputs": []
    },
    {
      "cell_type": "code",
      "metadata": {
        "id": "3MXQ17Gk_Cuv"
      },
      "source": [
        "def Loss(yhat,y_train,X):\n",
        "  eIndicator=np.zeros((10,X.shape[0]))\n",
        "  eIndicator[y_train,np.arange(X.shape[0])]=1\n",
        "  eIndicator=eIndicator*yhat\n",
        "  eIndicator=eIndicator.sum(axis=0)\n",
        "  eIndicator=np.log(eIndicator)\n",
        "  return -sum(eIndicator)\n"
      ],
      "execution_count": null,
      "outputs": []
    },
    {
      "cell_type": "code",
      "metadata": {
        "colab": {
          "base_uri": "https://localhost:8080/",
          "height": 121
        },
        "id": "WznyHo-2HrQD",
        "outputId": "e1dbcb7f-776f-4146-8397-59b562467f07"
      },
      "source": [
        "sweep_id = wandb.sweep(sweep_config, entity=\"aeaswar81\", project=\"testing\")"
      ],
      "execution_count": null,
      "outputs": [
        {
          "output_type": "display_data",
          "data": {
            "application/javascript": [
              "\n",
              "        window._wandbApiKey = new Promise((resolve, reject) => {\n",
              "            function loadScript(url) {\n",
              "            return new Promise(function(resolve, reject) {\n",
              "                let newScript = document.createElement(\"script\");\n",
              "                newScript.onerror = reject;\n",
              "                newScript.onload = resolve;\n",
              "                document.body.appendChild(newScript);\n",
              "                newScript.src = url;\n",
              "            });\n",
              "            }\n",
              "            loadScript(\"https://cdn.jsdelivr.net/npm/postmate/build/postmate.min.js\").then(() => {\n",
              "            const iframe = document.createElement('iframe')\n",
              "            iframe.style.cssText = \"width:0;height:0;border:none\"\n",
              "            document.body.appendChild(iframe)\n",
              "            const handshake = new Postmate({\n",
              "                container: iframe,\n",
              "                url: 'https://wandb.ai/authorize'\n",
              "            });\n",
              "            const timeout = setTimeout(() => reject(\"Couldn't auto authenticate\"), 5000)\n",
              "            handshake.then(function(child) {\n",
              "                child.on('authorize', data => {\n",
              "                    clearTimeout(timeout)\n",
              "                    resolve(data)\n",
              "                });\n",
              "            });\n",
              "            })\n",
              "        });\n",
              "    "
            ],
            "text/plain": [
              "<IPython.core.display.Javascript object>"
            ]
          },
          "metadata": {
            "tags": []
          }
        },
        {
          "output_type": "stream",
          "text": [
            "\u001b[34m\u001b[1mwandb\u001b[0m: You can find your API key in your browser here: https://wandb.ai/authorize\n"
          ],
          "name": "stderr"
        },
        {
          "output_type": "stream",
          "text": [
            "wandb: Paste an API key from your profile and hit enter: ··········\n"
          ],
          "name": "stdout"
        },
        {
          "output_type": "stream",
          "text": [
            "\u001b[34m\u001b[1mwandb\u001b[0m: Appending key for api.wandb.ai to your netrc file: /root/.netrc\n"
          ],
          "name": "stderr"
        },
        {
          "output_type": "stream",
          "text": [
            "Create sweep with ID: zez6qnyv\n",
            "Sweep URL: https://wandb.ai/aeaswar81/testing/sweeps/zez6qnyv\n"
          ],
          "name": "stdout"
        }
      ]
    },
    {
      "cell_type": "code",
      "metadata": {
        "id": "t8QMwTDwvLXU"
      },
      "source": [
        "def train():\n",
        " # config_defaults = {\n",
        "        #'epochs': 2,\n",
        "       # 'batch_size': 128,\n",
        "        # 'activation': 'sigmoid',\n",
        "      #  'optimizer': 'nadam',\n",
        "     #   'size_layer':32,\n",
        "    #    'hidden_layers':3\n",
        "   # }\n",
        "  \n",
        "  wandb.init()\n",
        "  config = wandb.config\n",
        "  n=\"hl_\"+str(config.hidden_layers)+\"_bs_\"+str(config.batch_size)+\"_ac_\"+str(config.activation)\n",
        "  wandb.run.name=n\n",
        "  \n",
        "\n",
        "  parameters_reset(config.size_layer,config.hidden_layers,config.batch_size,config.epochs,config.learning_rate,config.activation)\n",
        "  if config.optimizer=='nadam':\n",
        "    nadam()\n",
        "  elif config.optimizer=='rmsprop':\n",
        "    rmsProp()\n",
        "  elif config.optimizer=='momentum':\n",
        "    momentumGD()\n",
        "  elif config.optimizer=='vanilla':\n",
        "    vanillagradDescent()\n"
      ],
      "execution_count": null,
      "outputs": []
    },
    {
      "cell_type": "code",
      "metadata": {
        "id": "vw5nTf6osRiA"
      },
      "source": [
        "def parameters_reset(noOfneurons,hiddenlayers,batch,iter,learning,activation):\n",
        "  global l \n",
        "  global noOfneuronsEach\n",
        "  global noOfHiddenLayers\n",
        "  global inputNeuronSize\n",
        "  global parameters\n",
        "  global batchSize\n",
        "  global iterations\n",
        "  global eta\n",
        "  global activate\n",
        "  activate=activation\n",
        "  l=10 #output classes\n",
        "  noOfneuronsEach=[]\n",
        "  for i in range(hiddenlayers):\n",
        "    noOfneuronsEach.append(noOfneurons)\n",
        "  noOfHiddenLayers=hiddenlayers\n",
        "  inputNeuronSize=X_train.shape[1]\n",
        "  #print(inputNeuronSize)\n",
        "  parameters={}\n",
        "  batchSize=batch\n",
        "  iterations=iter\n",
        "  #eta=1   \n",
        "  #eta=0.001   #for rmsprop higher learning rate gradients explode causing overflow\n",
        "  #eta=0.002 #Nadam\n",
        "  eta=learning\n",
        "  #input W\n",
        "  #initialization\n",
        "  parameters['W'+str(1)] =np.random.uniform(low=-0.5,high=0.5,size=(noOfneuronsEach[0], inputNeuronSize))\n",
        "  parameters['b'+str(1)]= np.random.uniform(low=-0.5,high=0.5,size=(noOfneuronsEach[0],1))\n",
        "  #parameters['W'+str(1)] =0+1.5*np.random.randn(noOfneuronsEach[0], inputNeuronSize)\n",
        "  #parameters['b'+str(1)]= 0+1.5*np.random.randn(noOfneuronsEach[0],1)\n",
        "  for i in range(2,noOfHiddenLayers+1):\n",
        "    parameters['W'+str(i)] = np.random.uniform(low=-0.5,high=0.5,size=(noOfneuronsEach[i-1], noOfneuronsEach[i-2]))\n",
        "    parameters['b'+str(i)]= np.random.uniform(low=-0.5,high=0.5,size=(noOfneuronsEach[i-1],1))\n",
        "  #parameters['W'+str(i)] = 0+1.5*np.random.randn(noOfneuronsEach[i-1], noOfneuronsEach[i-2])\n",
        "  #parameters['b'+str(i)]= 0+1.5*np.random.randn(noOfneuronsEach[i-1],1)    \n",
        "  #Output W\n",
        "  parameters['W'+str(noOfHiddenLayers+1)] = np.random.uniform(low=-0.5,high=0.5,size=(l, noOfneuronsEach[-1]))\n",
        "  parameters['b'+str(noOfHiddenLayers+1)]= np.random.uniform(low=-0.5,high=0.5,size=(l,1))\n",
        "  #parameters['W'+str(noOfHiddenLayers+1)] = 0+1.5*np.random.randn(l, noOfneuronsEach[-1])\n",
        "  #parameters['b'+str(noOfHiddenLayers+1)]= 0+1.5*np.random.randn(l,1)"
      ],
      "execution_count": null,
      "outputs": []
    },
    {
      "cell_type": "code",
      "metadata": {
        "id": "3rIfc41ocC7-",
        "colab": {
          "base_uri": "https://localhost:8080/"
        },
        "outputId": "8beefad7-ff99-4a09-8e03-6eb8747f0f12"
      },
      "source": [
        "def vanillagradDescent():\n",
        "  t=0\n",
        "  while(t < iterations):\n",
        "    print(\"Epoch \",t)\n",
        "    #print(parameters)\n",
        "    mini=0\n",
        "    while(mini<(noOfImages/batchSize)):\n",
        "      #print(\"Batch \",mini)\n",
        "      X_mini=X_train[(mini*batchSize):((mini+1)*batchSize-1)]\n",
        "      y_mini=y_train[(mini*batchSize):((mini+1)*batchSize-1)]\n",
        "      preactivation,activation,yhat=forwardPropagation(X_mini,parameters)\n",
        "      gradients=backPropagation(parameters,activation,preactivation,yhat,X_mini,y_mini)\n",
        "      #print(\"gradients\",gradients)\n",
        "      for i in range(1,noOfHiddenLayers+2):\n",
        "        parameters['W'+str(i)] -=  eta*(1.0/X_mini.shape[0])*gradients['W'+str(i)]\n",
        "        parameters['b'+str(i)] -= eta*(1.0/X_mini.shape[0])*gradients['b'+str(i)]\n",
        "      mini+=1\n",
        "    _,_,yhat=forwardPropagation(X_train,parameters)\n",
        "    _,_,yhatval=forwardPropagation(X_val,parameters)\n",
        "    #square loss\n",
        "    #print(\"loss after epoch \",squareLoss(yhat,y_train,X_train))\n",
        "    #cross entropy loss\n",
        "    print(\"loss after epoch \",Loss(yhat,y_train,X_train))\n",
        "    \n",
        "    t+=1\n",
        "    wandb.log({'val_loss':Loss(yhatval,y_val,X_val),'loss':Loss(yhat,y_train,X_train),'val_accuracy':predict(X_val,y_val) ,'accuracy':predict(X_train,y_train),'epochs': t})\n",
        "#vanillagradDescent()\n"
      ],
      "execution_count": null,
      "outputs": [
        {
          "output_type": "stream",
          "text": [
            "Epoch  0\n",
            "loss after epoch  33222.60839739312\n",
            "Epoch  1\n",
            "loss after epoch  30141.0625234503\n",
            "Epoch  2\n",
            "loss after epoch  28576.107792591738\n",
            "Epoch  3\n",
            "loss after epoch  27154.571045355493\n",
            "Epoch  4\n",
            "loss after epoch  26041.945854135167\n",
            "Epoch  5\n",
            "loss after epoch  25184.851904944462\n",
            "Epoch  6\n",
            "loss after epoch  24465.99496246063\n",
            "Epoch  7\n",
            "loss after epoch  23816.861447008432\n",
            "Epoch  8\n",
            "loss after epoch  23221.54877148942\n",
            "Epoch  9\n",
            "loss after epoch  22685.158563268815\n"
          ],
          "name": "stdout"
        }
      ]
    },
    {
      "cell_type": "code",
      "metadata": {
        "id": "5PBJIPYtcLmg"
      },
      "source": [
        "def momentumGD():\n",
        "  #initialization\n",
        "  prevW={}\n",
        "  prevb={}\n",
        "  gamma=0.9\n",
        "  prevW['W'+str(1)] =np.zeros((noOfneuronsEach[0], inputNeuronSize))\n",
        "  prevb['b'+str(1)]= np.zeros((noOfneuronsEach[0],1))\n",
        "  for i in range(2,noOfHiddenLayers+1):\n",
        "    prevW['W'+str(i)] = np.zeros((noOfneuronsEach[i-1], noOfneuronsEach[i-2]))\n",
        "    prevb['b'+str(i)]= np.zeros((noOfneuronsEach[i-1],1))\n",
        "  prevW['W'+str(noOfHiddenLayers+1)] = np.zeros((l, noOfneuronsEach[-1]))\n",
        "  prevb['b'+str(noOfHiddenLayers+1)]= np.zeros((l,1))\n",
        "  t=0\n",
        "  while(t<iterations):\n",
        "    print(\"Epoch \",t)\n",
        "    mini=0\n",
        "    while(mini<(noOfImages/batchSize)):\n",
        "      #print(\"Batch \",mini)\n",
        "      X_mini=X_train[(mini*batchSize):((mini+1)*batchSize-1)]\n",
        "      y_mini=y_train[(mini*batchSize):((mini+1)*batchSize-1)]\n",
        "      preactivation,activation,yhat=forwardPropagation(X_mini,parameters)\n",
        "      gradients=backPropagation(parameters,activation,preactivation,yhat,X_mini,y_mini)\n",
        "      #print(\"gradients\",gradients)\n",
        "      for i in range(1,noOfHiddenLayers+2):\n",
        "        w=gamma*prevW['W'+str(i)]+eta*(1.0/X_mini.shape[0])*gradients['W'+str(i)]\n",
        "        b=gamma*prevb['b'+str(i)]+eta*(1.0/X_mini.shape[0])*gradients['b'+str(i)]\n",
        "        parameters['W'+str(i)] -=  w\n",
        "        parameters['b'+str(i)] -=  b\n",
        "        prevW['W'+str(i)]=w\n",
        "        prevb['b'+str(i)]=b\n",
        "      mini+=1\n",
        "    _,_,yhat=forwardPropagation(X_train,parameters)\n",
        "    _,_,yhatval=forwardPropagation(X_val,parameters)\n",
        "    #print(\"loss after epoch \",Loss(yhat,y_train,X_train))\n",
        "    \n",
        "    t+=1\n",
        "    wandb.log({'val_loss':Loss(yhatval,y_val,X_val),'loss':Loss(yhat,y_train,X_train),'val_accuracy':predict(X_val,y_val) ,'accuracy':predict(X_train,y_train),'epochs': t})\n",
        "\n",
        "\n"
      ],
      "execution_count": null,
      "outputs": []
    },
    {
      "cell_type": "code",
      "metadata": {
        "id": "JKIw16fnauT7"
      },
      "source": [
        "def rmsProp():\n",
        "  #initialization\n",
        "  prevW={}\n",
        "  prevb={}\n",
        "  epsilon=1e-8\n",
        "  beta=0.9\n",
        "  prevW['W'+str(1)] =np.zeros((noOfneuronsEach[0], inputNeuronSize))\n",
        "  prevb['b'+str(1)]= np.zeros((noOfneuronsEach[0],1))\n",
        "  for i in range(2,noOfHiddenLayers+1):\n",
        "    prevW['W'+str(i)] = np.zeros((noOfneuronsEach[i-1], noOfneuronsEach[i-2]))\n",
        "    prevb['b'+str(i)]= np.zeros((noOfneuronsEach[i-1],1))\n",
        "  prevW['W'+str(noOfHiddenLayers+1)] = np.zeros((l, noOfneuronsEach[-1]))\n",
        "  prevb['b'+str(noOfHiddenLayers+1)]= np.zeros((l,1))\n",
        "  t=0\n",
        "  while(t<iterations):\n",
        "    print(\"Epoch \",t)\n",
        "    mini=0\n",
        "    while(mini<(noOfImages/batchSize)):\n",
        "      #print(\"Batch \",mini)\n",
        "      X_mini=X_train[(mini*batchSize):((mini+1)*batchSize-1)]\n",
        "      y_mini=y_train[(mini*batchSize):((mini+1)*batchSize-1)]\n",
        "      preactivation,activation,yhat=forwardPropagation(X_mini,parameters)\n",
        "      gradients=backPropagation(parameters,activation,preactivation,yhat,X_mini,y_mini)\n",
        "      #print(\"gradients\",gradients)\n",
        "      for i in range(1,noOfHiddenLayers+2):\n",
        "        prevW['W'+str(i)]= beta*prevW['W'+str(i)]+(1.0 - beta)* (gradients['W'+str(i)]**2)\n",
        "        prevb['b'+str(i)]= beta*prevb['b'+str(i)]+(1.0 - beta)* (gradients['b'+str(i)]**2)\n",
        "        \n",
        "        parameters['W'+str(i)] -=  ((eta/np.sqrt(prevW['W'+str(i)]+epsilon))*gradients['W'+str(i)])\n",
        "        parameters['b'+str(i)] -=  ((eta/np.sqrt(prevb['b'+str(i)]+epsilon))*gradients['b'+str(i)])\n",
        "      mini+=1\n",
        "    _,_,yhat=forwardPropagation(X_train,parameters)\n",
        "    _,_,yhatval=forwardPropagation(X_val,parameters)\n",
        "    #print(\"loss after epoch \",Loss(yhat,y_train,X_train))\n",
        "    t+=1\n",
        "    wandb.log({'val_loss':Loss(yhatval,y_val,X_val),'loss':Loss(yhat,y_train,X_train),'val_accuracy':predict(X_val,y_val) ,'accuracy':predict(X_train,y_train),'epochs': t})\n"
      ],
      "execution_count": null,
      "outputs": []
    },
    {
      "cell_type": "code",
      "metadata": {
        "id": "gnmSv72ylsBG"
      },
      "source": [
        "def nadam():\n",
        "  #initialization\n",
        "  prevW={}\n",
        "  prevb={}\n",
        "  mW={}\n",
        "  mb={}\n",
        "  epsilon=1e-8\n",
        "  beta1=0.9\n",
        "  beta2=0.999\n",
        "  prevW['W'+str(1)] =np.zeros((noOfneuronsEach[0], inputNeuronSize))\n",
        "  prevb['b'+str(1)]= np.zeros((noOfneuronsEach[0],1))\n",
        "  for i in range(2,noOfHiddenLayers+1):\n",
        "    prevW['W'+str(i)] = np.zeros((noOfneuronsEach[i-1], noOfneuronsEach[i-2]))\n",
        "    prevb['b'+str(i)]= np.zeros((noOfneuronsEach[i-1],1))\n",
        "  prevW['W'+str(noOfHiddenLayers+1)] = np.zeros((l, noOfneuronsEach[-1]))\n",
        "  prevb['b'+str(noOfHiddenLayers+1)]= np.zeros((l,1))\n",
        "\n",
        "  mW['W'+str(1)] =np.zeros((noOfneuronsEach[0], inputNeuronSize))\n",
        "  mb['b'+str(1)]= np.zeros((noOfneuronsEach[0],1))\n",
        "  for i in range(2,noOfHiddenLayers+1):\n",
        "    mW['W'+str(i)] = np.zeros((noOfneuronsEach[i-1], noOfneuronsEach[i-2]))\n",
        "    mb['b'+str(i)]= np.zeros((noOfneuronsEach[i-1],1))\n",
        "  mW['W'+str(noOfHiddenLayers+1)] = np.zeros((l, noOfneuronsEach[-1]))\n",
        "  mb['b'+str(noOfHiddenLayers+1)]= np.zeros((l,1))\n",
        "\n",
        "\n",
        "  t=0 #iterations \n",
        "  f=0 # update number \n",
        "  while(t<iterations):\n",
        "    print(\"Epoch \",t)\n",
        "    mini=0\n",
        "    while(mini<(noOfImages/batchSize)):\n",
        "      #print(\"Batch \",mini)\n",
        "      X_mini=X_train[(mini*batchSize):((mini+1)*batchSize-1)]\n",
        "      y_mini=y_train[(mini*batchSize):((mini+1)*batchSize-1)]\n",
        "      preactivation,activation,yhat=forwardPropagation(X_mini,parameters)\n",
        "      gradients=backPropagation(parameters,activation,preactivation,yhat,X_mini,y_mini)\n",
        "      f+=1\n",
        "      for i in range(1,noOfHiddenLayers+2):\n",
        "        mW['W'+str(i)]= beta1*mW['W'+str(i)]+(1.0 - beta1)* (gradients['W'+str(i)])\n",
        "        mb['b'+str(i)]= beta1*mb['b'+str(i)]+(1.0 - beta1)* (gradients['b'+str(i)])\n",
        "        \n",
        "        prevW['W'+str(i)]= beta2*prevW['W'+str(i)]+(1.0 - beta2)* (gradients['W'+str(i)]**2)\n",
        "        prevb['b'+str(i)]= beta2*prevb['b'+str(i)]+(1.0 - beta2)* (gradients['b'+str(i)]**2)\n",
        "\n",
        "        mWHat=(1.0-(beta1**f))*mW['W'+str(i)]\n",
        "        mbHat=(1.0-(beta1**f))*mb['b'+str(i)]\n",
        "\n",
        "        vWHat=(1.0-(beta2**f))*prevW['W'+str(i)]\n",
        "        vbHat=(1.0-(beta2**f))*prevb['b'+str(i)]\n",
        "        \n",
        "        mbarW= beta1*mWHat+(1.0-beta1)*gradients['W'+str(i)]\n",
        "        mbarb= beta1*mbHat+(1.0-beta1)*gradients['b'+str(i)]\n",
        "\n",
        "        parameters['W'+str(i)] -=  ((eta/np.sqrt(vWHat+epsilon))*mbarW)\n",
        "        parameters['b'+str(i)] -=  ((eta/np.sqrt(vbHat+epsilon))*mbarb)\n",
        "      mini+=1\n",
        "    _,_,yhat=forwardPropagation(X_train,parameters)\n",
        "    _,_,yhatval=forwardPropagation(X_val,parameters)\n",
        "    #print(\"loss after epoch \",Loss(yhat,y_train,X_train))\n",
        "    \n",
        "    t+=1\n",
        "    wandb.log({'val_loss':Loss(yhatval,y_val,X_val),'loss':Loss(yhat,y_train,X_train),'val_accuracy':predict(X_val,y_val) ,'accuracy':predict(X_train,y_train),'epochs': t})\n"
      ],
      "execution_count": null,
      "outputs": []
    },
    {
      "cell_type": "code",
      "metadata": {
        "colab": {
          "base_uri": "https://localhost:8080/",
          "height": 1000,
          "referenced_widgets": [
            "a2e3fd674ffc43478fc0c911c3e9a767",
            "f361944852c749219a48befb8e3abf9b",
            "9706eda6a591411497ab8937399deb84",
            "f8a6794833f744e8be957eef110a030b",
            "b29eeb2e330f406d866c31051e47242a",
            "fe8028de09ee4314b9a5d90de1731ba6",
            "decfef04e45747279cb8a93802cca8a6",
            "1bf2f63203f949cfa34264230523bbf9",
            "5b14f40881cc4a9abe237fb84dca644d",
            "10a725631e214a03843d8e1fd4b6543e",
            "d7946710b0894c2da062b4cfef99c6c2",
            "94cad8c2dff04be091a55b97b2dac3f9",
            "fc52a69fafb141c2a460536b5895ba8f",
            "6d75351ec0534551b4d943f47a2897f0",
            "bd0f72d087214aa3b6af156c900efda9",
            "45161c93c9f74383aee78a7c33e33c03"
          ]
        },
        "id": "Kkm4t4Q6h86Z",
        "outputId": "16fab8bb-10b5-459d-8f8e-ca5194f21dab"
      },
      "source": [
        "wandb.agent(sweep_id, train,count=2)"
      ],
      "execution_count": null,
      "outputs": [
        {
          "output_type": "stream",
          "text": [
            "\u001b[34m\u001b[1mwandb\u001b[0m: Agent Starting Run: i8wlvj1j with config:\n",
            "\u001b[34m\u001b[1mwandb\u001b[0m: \tactivation: tanh\n",
            "\u001b[34m\u001b[1mwandb\u001b[0m: \tbatch_size: 64\n",
            "\u001b[34m\u001b[1mwandb\u001b[0m: \tepochs: 5\n",
            "\u001b[34m\u001b[1mwandb\u001b[0m: \thidden_layers: 5\n",
            "\u001b[34m\u001b[1mwandb\u001b[0m: \tlearning_rate: 0.001\n",
            "\u001b[34m\u001b[1mwandb\u001b[0m: \toptimizer: nadam\n",
            "\u001b[34m\u001b[1mwandb\u001b[0m: \tsize_layer: 32\n"
          ],
          "name": "stderr"
        },
        {
          "output_type": "display_data",
          "data": {
            "text/html": [
              "\n",
              "                Tracking run with wandb version 0.10.22<br/>\n",
              "                Syncing run <strong style=\"color:#cdcd00\">mild-sweep-73</strong> to <a href=\"https://wandb.ai\" target=\"_blank\">Weights & Biases</a> <a href=\"https://docs.wandb.com/integrations/jupyter.html\" target=\"_blank\">(Documentation)</a>.<br/>\n",
              "                Project page: <a href=\"https://wandb.ai/aeaswar81/testing\" target=\"_blank\">https://wandb.ai/aeaswar81/testing</a><br/>\n",
              "                Sweep page: <a href=\"https://wandb.ai/aeaswar81/testing/sweeps/zez6qnyv\" target=\"_blank\">https://wandb.ai/aeaswar81/testing/sweeps/zez6qnyv</a><br/>\n",
              "Run page: <a href=\"https://wandb.ai/aeaswar81/testing/runs/i8wlvj1j\" target=\"_blank\">https://wandb.ai/aeaswar81/testing/runs/i8wlvj1j</a><br/>\n",
              "                Run data is saved locally in <code>/content/wandb/run-20210310_141600-i8wlvj1j</code><br/><br/>\n",
              "            "
            ],
            "text/plain": [
              "<IPython.core.display.HTML object>"
            ]
          },
          "metadata": {
            "tags": []
          }
        },
        {
          "output_type": "stream",
          "text": [
            "Epoch  0\n",
            "Epoch  1\n",
            "Epoch  2\n",
            "Epoch  3\n",
            "Epoch  4\n"
          ],
          "name": "stdout"
        },
        {
          "output_type": "display_data",
          "data": {
            "text/html": [
              "<br/>Waiting for W&B process to finish, PID 2804<br/>Program ended successfully."
            ],
            "text/plain": [
              "<IPython.core.display.HTML object>"
            ]
          },
          "metadata": {
            "tags": []
          }
        },
        {
          "output_type": "display_data",
          "data": {
            "application/vnd.jupyter.widget-view+json": {
              "model_id": "a2e3fd674ffc43478fc0c911c3e9a767",
              "version_major": 2,
              "version_minor": 0
            },
            "text/plain": [
              "VBox(children=(Label(value=' 0.00MB of 0.00MB uploaded (0.00MB deduped)\\r'), FloatProgress(value=1.0, max=1.0)…"
            ]
          },
          "metadata": {
            "tags": []
          }
        },
        {
          "output_type": "display_data",
          "data": {
            "text/html": [
              "Find user logs for this run at: <code>/content/wandb/run-20210310_141600-i8wlvj1j/logs/debug.log</code>"
            ],
            "text/plain": [
              "<IPython.core.display.HTML object>"
            ]
          },
          "metadata": {
            "tags": []
          }
        },
        {
          "output_type": "display_data",
          "data": {
            "text/html": [
              "Find internal logs for this run at: <code>/content/wandb/run-20210310_141600-i8wlvj1j/logs/debug-internal.log</code>"
            ],
            "text/plain": [
              "<IPython.core.display.HTML object>"
            ]
          },
          "metadata": {
            "tags": []
          }
        },
        {
          "output_type": "display_data",
          "data": {
            "text/html": [
              "<h3>Run summary:</h3><br/><style>\n",
              "    table.wandb td:nth-child(1) { padding: 0 10px; text-align: right }\n",
              "    </style><table class=\"wandb\">\n",
              "<tr><td>val_loss</td><td>4043.5092</td></tr><tr><td>loss</td><td>34742.73782</td></tr><tr><td>val_accuracy</td><td>76.61667</td></tr><tr><td>accuracy</td><td>77.55</td></tr><tr><td>epochs</td><td>5</td></tr><tr><td>_runtime</td><td>46</td></tr><tr><td>_timestamp</td><td>1615385806</td></tr><tr><td>_step</td><td>4</td></tr></table>"
            ],
            "text/plain": [
              "<IPython.core.display.HTML object>"
            ]
          },
          "metadata": {
            "tags": []
          }
        },
        {
          "output_type": "display_data",
          "data": {
            "text/html": [
              "<h3>Run history:</h3><br/><style>\n",
              "    table.wandb td:nth-child(1) { padding: 0 10px; text-align: right }\n",
              "    </style><table class=\"wandb\">\n",
              "<tr><td>val_loss</td><td>█▅▄▂▁</td></tr><tr><td>loss</td><td>█▅▄▂▁</td></tr><tr><td>val_accuracy</td><td>▁▂▃▇█</td></tr><tr><td>accuracy</td><td>▁▂▂▇█</td></tr><tr><td>epochs</td><td>▁▃▅▆█</td></tr><tr><td>_runtime</td><td>▁▃▅▆█</td></tr><tr><td>_timestamp</td><td>▁▃▅▆█</td></tr><tr><td>_step</td><td>▁▃▅▆█</td></tr></table><br/>"
            ],
            "text/plain": [
              "<IPython.core.display.HTML object>"
            ]
          },
          "metadata": {
            "tags": []
          }
        },
        {
          "output_type": "display_data",
          "data": {
            "text/html": [
              "Synced 5 W&B file(s), 0 media file(s), 0 artifact file(s) and 0 other file(s)"
            ],
            "text/plain": [
              "<IPython.core.display.HTML object>"
            ]
          },
          "metadata": {
            "tags": []
          }
        },
        {
          "output_type": "display_data",
          "data": {
            "text/html": [
              "\n",
              "                    <br/>Synced <strong style=\"color:#cdcd00\">mild-sweep-73</strong>: <a href=\"https://wandb.ai/aeaswar81/testing/runs/i8wlvj1j\" target=\"_blank\">https://wandb.ai/aeaswar81/testing/runs/i8wlvj1j</a><br/>\n",
              "                "
            ],
            "text/plain": [
              "<IPython.core.display.HTML object>"
            ]
          },
          "metadata": {
            "tags": []
          }
        },
        {
          "output_type": "stream",
          "text": [
            "\u001b[34m\u001b[1mwandb\u001b[0m: Agent Starting Run: tkjt4wo1 with config:\n",
            "\u001b[34m\u001b[1mwandb\u001b[0m: \tactivation: sigmoid\n",
            "\u001b[34m\u001b[1mwandb\u001b[0m: \tbatch_size: 64\n",
            "\u001b[34m\u001b[1mwandb\u001b[0m: \tepochs: 10\n",
            "\u001b[34m\u001b[1mwandb\u001b[0m: \thidden_layers: 5\n",
            "\u001b[34m\u001b[1mwandb\u001b[0m: \tlearning_rate: 0.001\n",
            "\u001b[34m\u001b[1mwandb\u001b[0m: \toptimizer: vanilla\n",
            "\u001b[34m\u001b[1mwandb\u001b[0m: \tsize_layer: 64\n"
          ],
          "name": "stderr"
        },
        {
          "output_type": "display_data",
          "data": {
            "text/html": [
              "\n",
              "                Tracking run with wandb version 0.10.22<br/>\n",
              "                Syncing run <strong style=\"color:#cdcd00\">astral-sweep-74</strong> to <a href=\"https://wandb.ai\" target=\"_blank\">Weights & Biases</a> <a href=\"https://docs.wandb.com/integrations/jupyter.html\" target=\"_blank\">(Documentation)</a>.<br/>\n",
              "                Project page: <a href=\"https://wandb.ai/aeaswar81/testing\" target=\"_blank\">https://wandb.ai/aeaswar81/testing</a><br/>\n",
              "                Sweep page: <a href=\"https://wandb.ai/aeaswar81/testing/sweeps/zez6qnyv\" target=\"_blank\">https://wandb.ai/aeaswar81/testing/sweeps/zez6qnyv</a><br/>\n",
              "Run page: <a href=\"https://wandb.ai/aeaswar81/testing/runs/tkjt4wo1\" target=\"_blank\">https://wandb.ai/aeaswar81/testing/runs/tkjt4wo1</a><br/>\n",
              "                Run data is saved locally in <code>/content/wandb/run-20210310_141652-tkjt4wo1</code><br/><br/>\n",
              "            "
            ],
            "text/plain": [
              "<IPython.core.display.HTML object>"
            ]
          },
          "metadata": {
            "tags": []
          }
        },
        {
          "output_type": "stream",
          "text": [
            "Epoch  0\n",
            "Epoch  1\n",
            "Epoch  2\n",
            "Epoch  3\n",
            "Epoch  4\n",
            "Epoch  5\n",
            "Epoch  6\n",
            "Epoch  7\n",
            "Epoch  8\n",
            "Epoch  9\n"
          ],
          "name": "stdout"
        },
        {
          "output_type": "display_data",
          "data": {
            "text/html": [
              "<br/>Waiting for W&B process to finish, PID 2845<br/>Program ended successfully."
            ],
            "text/plain": [
              "<IPython.core.display.HTML object>"
            ]
          },
          "metadata": {
            "tags": []
          }
        },
        {
          "output_type": "display_data",
          "data": {
            "application/vnd.jupyter.widget-view+json": {
              "model_id": "5b14f40881cc4a9abe237fb84dca644d",
              "version_major": 2,
              "version_minor": 0
            },
            "text/plain": [
              "VBox(children=(Label(value=' 0.00MB of 0.00MB uploaded (0.00MB deduped)\\r'), FloatProgress(value=1.0, max=1.0)…"
            ]
          },
          "metadata": {
            "tags": []
          }
        },
        {
          "output_type": "display_data",
          "data": {
            "text/html": [
              "Find user logs for this run at: <code>/content/wandb/run-20210310_141652-tkjt4wo1/logs/debug.log</code>"
            ],
            "text/plain": [
              "<IPython.core.display.HTML object>"
            ]
          },
          "metadata": {
            "tags": []
          }
        },
        {
          "output_type": "display_data",
          "data": {
            "text/html": [
              "Find internal logs for this run at: <code>/content/wandb/run-20210310_141652-tkjt4wo1/logs/debug-internal.log</code>"
            ],
            "text/plain": [
              "<IPython.core.display.HTML object>"
            ]
          },
          "metadata": {
            "tags": []
          }
        },
        {
          "output_type": "display_data",
          "data": {
            "text/html": [
              "<h3>Run summary:</h3><br/><style>\n",
              "    table.wandb td:nth-child(1) { padding: 0 10px; text-align: right }\n",
              "    </style><table class=\"wandb\">\n",
              "<tr><td>val_loss</td><td>13723.72562</td></tr><tr><td>loss</td><td>123478.69216</td></tr><tr><td>val_accuracy</td><td>25.63333</td></tr><tr><td>accuracy</td><td>25.93889</td></tr><tr><td>epochs</td><td>10</td></tr><tr><td>_runtime</td><td>81</td></tr><tr><td>_timestamp</td><td>1615385893</td></tr><tr><td>_step</td><td>9</td></tr></table>"
            ],
            "text/plain": [
              "<IPython.core.display.HTML object>"
            ]
          },
          "metadata": {
            "tags": []
          }
        },
        {
          "output_type": "display_data",
          "data": {
            "text/html": [
              "<h3>Run history:</h3><br/><style>\n",
              "    table.wandb td:nth-child(1) { padding: 0 10px; text-align: right }\n",
              "    </style><table class=\"wandb\">\n",
              "<tr><td>val_loss</td><td>█▅▄▄▃▃▂▂▁▁</td></tr><tr><td>loss</td><td>█▅▄▄▄▃▃▂▂▁</td></tr><tr><td>val_accuracy</td><td>▁▁▂▃▄▅▅▆▇█</td></tr><tr><td>accuracy</td><td>▁▁▂▃▄▅▆▇▇█</td></tr><tr><td>epochs</td><td>▁▂▃▃▄▅▆▆▇█</td></tr><tr><td>_runtime</td><td>▁▂▃▃▄▅▆▆▇█</td></tr><tr><td>_timestamp</td><td>▁▂▃▃▄▅▆▆▇█</td></tr><tr><td>_step</td><td>▁▂▃▃▄▅▆▆▇█</td></tr></table><br/>"
            ],
            "text/plain": [
              "<IPython.core.display.HTML object>"
            ]
          },
          "metadata": {
            "tags": []
          }
        },
        {
          "output_type": "display_data",
          "data": {
            "text/html": [
              "Synced 5 W&B file(s), 0 media file(s), 0 artifact file(s) and 0 other file(s)"
            ],
            "text/plain": [
              "<IPython.core.display.HTML object>"
            ]
          },
          "metadata": {
            "tags": []
          }
        },
        {
          "output_type": "display_data",
          "data": {
            "text/html": [
              "\n",
              "                    <br/>Synced <strong style=\"color:#cdcd00\">astral-sweep-74</strong>: <a href=\"https://wandb.ai/aeaswar81/testing/runs/tkjt4wo1\" target=\"_blank\">https://wandb.ai/aeaswar81/testing/runs/tkjt4wo1</a><br/>\n",
              "                "
            ],
            "text/plain": [
              "<IPython.core.display.HTML object>"
            ]
          },
          "metadata": {
            "tags": []
          }
        }
      ]
    },
    {
      "cell_type": "code",
      "metadata": {
        "colab": {
          "base_uri": "https://localhost:8080/",
          "height": 1000,
          "referenced_widgets": [
            "1d9ec9f5129e4fa8b4499063ee56b4a9",
            "6b5e07cd69894cf9ba3918caa7a77e6c",
            "dc44b419133142ef84780ddbe9323a19",
            "2c9e6965957f4c089c143aa69877a066",
            "4ff161a7325f4920ae480454984684d4",
            "c37c755f10ad43db800af7be2bc634c9",
            "dab288e34b0c4796ba9abbcb11bd579f",
            "aadbb0be33834c609aab5514ae0f3bd0"
          ]
        },
        "id": "pR_KkoItysEH",
        "outputId": "f8fcbf3f-e26b-49bf-a3cd-95cb56536660"
      },
      "source": [
        "def predict(X_test,y_test):\n",
        "  _,_,y_hat=forwardPropagation(X_test,parameters)\n",
        "  y_hat=y_hat.argmax(axis=0)\n",
        "  correctPred=np.sum(y_hat==y_test)\n",
        "  print(\"Accuracy is \", correctPred/X_test.shape[0]*100,\"%\")\n",
        "  return y_hat\n",
        "y_pred=predict(X_test,y_test)\n",
        "conf=confusion_matrix(y_test,y_pred)\n",
        "print(conf)\n",
        "#flatten the matrix \n",
        "numbers=conf.flatten()\n",
        "#convert to percentage\n",
        "percent=['{0:.2%}'.format(num) for num in numbers/np.sum(conf)]\n",
        "p=plt.figure(figsize=(11,11))\n",
        "#zip it \n",
        "values =[f'{num}\\n{perc}' for num,perc in zip(numbers,percent)]\n",
        "values=np.asarray(values).reshape(10,10)\n",
        "sns.heatmap(conf,fmt='',annot=values,cmap='Blues',linewidths=2,linecolor=\"yellow\",square=True)\n",
        "plt.ylabel(\"True class\",size=20)\n",
        "plt.xlabel('Predicted class',size=20)\n",
        "plt.title(\"Confusion matrix heatmap\",size=20)\n",
        "#wandb.init()\n",
        "wandb.log({\"Confusion matrix\": [wandb.Image(p, caption=\"Confusion matrix\")]})\n",
        "plt.show()"
      ],
      "execution_count": 56,
      "outputs": [
        {
          "output_type": "stream",
          "text": [
            "Accuracy is  10.2 %\n",
            "[[  0   0   0   0   0   0 958  39   3   0]\n",
            " [  0   0   0   0   0   0 992   2   6   0]\n",
            " [  0   0   0   0   0   0 882  26  92   0]\n",
            " [  0   0   0   0   0   0 986  10   4   0]\n",
            " [  0   0   0   0   0   0 925  15  60   0]\n",
            " [  0   1   0   0   0   0 636 324  39   0]\n",
            " [  0   0   0   0   0   0 917  42  41   0]\n",
            " [  0   0   0   0   0   0 912  87   1   0]\n",
            " [  0   0   0   0   0   0 838 146  16   0]\n",
            " [  0   0   0   0   0   0 872 120   8   0]]\n",
            "[['0\\n0.00%' '0\\n0.00%' '0\\n0.00%' '0\\n0.00%' '0\\n0.00%' '0\\n0.00%'\n",
            "  '958\\n9.58%' '39\\n0.39%' '3\\n0.03%' '0\\n0.00%']\n",
            " ['0\\n0.00%' '0\\n0.00%' '0\\n0.00%' '0\\n0.00%' '0\\n0.00%' '0\\n0.00%'\n",
            "  '992\\n9.92%' '2\\n0.02%' '6\\n0.06%' '0\\n0.00%']\n",
            " ['0\\n0.00%' '0\\n0.00%' '0\\n0.00%' '0\\n0.00%' '0\\n0.00%' '0\\n0.00%'\n",
            "  '882\\n8.82%' '26\\n0.26%' '92\\n0.92%' '0\\n0.00%']\n",
            " ['0\\n0.00%' '0\\n0.00%' '0\\n0.00%' '0\\n0.00%' '0\\n0.00%' '0\\n0.00%'\n",
            "  '986\\n9.86%' '10\\n0.10%' '4\\n0.04%' '0\\n0.00%']\n",
            " ['0\\n0.00%' '0\\n0.00%' '0\\n0.00%' '0\\n0.00%' '0\\n0.00%' '0\\n0.00%'\n",
            "  '925\\n9.25%' '15\\n0.15%' '60\\n0.60%' '0\\n0.00%']\n",
            " ['0\\n0.00%' '1\\n0.01%' '0\\n0.00%' '0\\n0.00%' '0\\n0.00%' '0\\n0.00%'\n",
            "  '636\\n6.36%' '324\\n3.24%' '39\\n0.39%' '0\\n0.00%']\n",
            " ['0\\n0.00%' '0\\n0.00%' '0\\n0.00%' '0\\n0.00%' '0\\n0.00%' '0\\n0.00%'\n",
            "  '917\\n9.17%' '42\\n0.42%' '41\\n0.41%' '0\\n0.00%']\n",
            " ['0\\n0.00%' '0\\n0.00%' '0\\n0.00%' '0\\n0.00%' '0\\n0.00%' '0\\n0.00%'\n",
            "  '912\\n9.12%' '87\\n0.87%' '1\\n0.01%' '0\\n0.00%']\n",
            " ['0\\n0.00%' '0\\n0.00%' '0\\n0.00%' '0\\n0.00%' '0\\n0.00%' '0\\n0.00%'\n",
            "  '838\\n8.38%' '146\\n1.46%' '16\\n0.16%' '0\\n0.00%']\n",
            " ['0\\n0.00%' '0\\n0.00%' '0\\n0.00%' '0\\n0.00%' '0\\n0.00%' '0\\n0.00%'\n",
            "  '872\\n8.72%' '120\\n1.20%' '8\\n0.08%' '0\\n0.00%']]\n"
          ],
          "name": "stdout"
        },
        {
          "output_type": "display_data",
          "data": {
            "text/html": [
              "Finishing last run (ID:ue9rzo07) before initializing another..."
            ],
            "text/plain": [
              "<IPython.core.display.HTML object>"
            ]
          },
          "metadata": {
            "tags": []
          }
        },
        {
          "output_type": "display_data",
          "data": {
            "text/html": [
              "<br/>Waiting for W&B process to finish, PID 1773<br/>Program ended successfully."
            ],
            "text/plain": [
              "<IPython.core.display.HTML object>"
            ]
          },
          "metadata": {
            "tags": []
          }
        },
        {
          "output_type": "display_data",
          "data": {
            "application/vnd.jupyter.widget-view+json": {
              "model_id": "1d9ec9f5129e4fa8b4499063ee56b4a9",
              "version_minor": 0,
              "version_major": 2
            },
            "text/plain": [
              "VBox(children=(Label(value=' 0.06MB of 0.06MB uploaded (0.00MB deduped)\\r'), FloatProgress(value=1.0, max=1.0)…"
            ]
          },
          "metadata": {
            "tags": []
          }
        },
        {
          "output_type": "display_data",
          "data": {
            "text/html": [
              "Find user logs for this run at: <code>/content/wandb/run-20210312_125636-ue9rzo07/logs/debug.log</code>"
            ],
            "text/plain": [
              "<IPython.core.display.HTML object>"
            ]
          },
          "metadata": {
            "tags": []
          }
        },
        {
          "output_type": "display_data",
          "data": {
            "text/html": [
              "Find internal logs for this run at: <code>/content/wandb/run-20210312_125636-ue9rzo07/logs/debug-internal.log</code>"
            ],
            "text/plain": [
              "<IPython.core.display.HTML object>"
            ]
          },
          "metadata": {
            "tags": []
          }
        },
        {
          "output_type": "display_data",
          "data": {
            "text/html": [
              "<h3>Run summary:</h3><br/><style>\n",
              "    table.wandb td:nth-child(1) { padding: 0 10px; text-align: right }\n",
              "    </style><table class=\"wandb\">\n",
              "<tr><td>_runtime</td><td>3</td></tr><tr><td>_timestamp</td><td>1615553802</td></tr><tr><td>_step</td><td>2</td></tr></table>"
            ],
            "text/plain": [
              "<IPython.core.display.HTML object>"
            ]
          },
          "metadata": {
            "tags": []
          }
        },
        {
          "output_type": "display_data",
          "data": {
            "text/html": [
              "<h3>Run history:</h3><br/><style>\n",
              "    table.wandb td:nth-child(1) { padding: 0 10px; text-align: right }\n",
              "    </style><table class=\"wandb\">\n",
              "<tr><td>_runtime</td><td>▁▁▁</td></tr><tr><td>_timestamp</td><td>▁▁▁</td></tr><tr><td>_step</td><td>▁▅█</td></tr></table><br/>"
            ],
            "text/plain": [
              "<IPython.core.display.HTML object>"
            ]
          },
          "metadata": {
            "tags": []
          }
        },
        {
          "output_type": "display_data",
          "data": {
            "text/html": [
              "Synced 5 W&B file(s), 1 media file(s), 0 artifact file(s) and 0 other file(s)"
            ],
            "text/plain": [
              "<IPython.core.display.HTML object>"
            ]
          },
          "metadata": {
            "tags": []
          }
        },
        {
          "output_type": "display_data",
          "data": {
            "text/html": [
              "\n",
              "                    <br/>Synced <strong style=\"color:#cdcd00\">absurd-sun-9</strong>: <a href=\"https://wandb.ai/aeaswar81/uncategorized/runs/ue9rzo07\" target=\"_blank\">https://wandb.ai/aeaswar81/uncategorized/runs/ue9rzo07</a><br/>\n",
              "                "
            ],
            "text/plain": [
              "<IPython.core.display.HTML object>"
            ]
          },
          "metadata": {
            "tags": []
          }
        },
        {
          "output_type": "display_data",
          "data": {
            "text/html": [
              "...Successfully finished last run (ID:ue9rzo07). Initializing new run:<br/><br/>"
            ],
            "text/plain": [
              "<IPython.core.display.HTML object>"
            ]
          },
          "metadata": {
            "tags": []
          }
        },
        {
          "output_type": "display_data",
          "data": {
            "text/html": [
              "\n",
              "                Tracking run with wandb version 0.10.22<br/>\n",
              "                Syncing run <strong style=\"color:#cdcd00\">lunar-waterfall-10</strong> to <a href=\"https://wandb.ai\" target=\"_blank\">Weights & Biases</a> <a href=\"https://docs.wandb.com/integrations/jupyter.html\" target=\"_blank\">(Documentation)</a>.<br/>\n",
              "                Project page: <a href=\"https://wandb.ai/aeaswar81/uncategorized\" target=\"_blank\">https://wandb.ai/aeaswar81/uncategorized</a><br/>\n",
              "                Run page: <a href=\"https://wandb.ai/aeaswar81/uncategorized/runs/1l54f9ba\" target=\"_blank\">https://wandb.ai/aeaswar81/uncategorized/runs/1l54f9ba</a><br/>\n",
              "                Run data is saved locally in <code>/content/wandb/run-20210312_130444-1l54f9ba</code><br/><br/>\n",
              "            "
            ],
            "text/plain": [
              "<IPython.core.display.HTML object>"
            ]
          },
          "metadata": {
            "tags": []
          }
        },
        {
          "output_type": "display_data",
          "data": {
            "image/png": "[encoded data removed]",
            "text/plain": [
              "<Figure size 792x792 with 2 Axes>"
            ]
          },
          "metadata": {
            "tags": [],
            "needs_background": "light"
          }
        }
      ]
    }
  ]
}