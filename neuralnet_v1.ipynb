{
  "nbformat": 4,
  "nbformat_minor": 0,
  "metadata": {
    "colab": {
      "name": "Assgnment1_DL.ipynb",
      "provenance": [],
      "collapsed_sections": []
    },
    "kernelspec": {
      "name": "python3",
      "display_name": "Python 3"
    },
    "widgets": {
      "application/vnd.jupyter.widget-state+json": {
        "e49a621c727647ddb904dcd5bc75267a": {
          "model_module": "@jupyter-widgets/controls",
          "model_name": "VBoxModel",
          "state": {
            "_view_name": "VBoxView",
            "_dom_classes": [],
            "_model_name": "VBoxModel",
            "_view_module": "@jupyter-widgets/controls",
            "_model_module_version": "1.5.0",
            "_view_count": null,
            "_view_module_version": "1.5.0",
            "box_style": "",
            "layout": "IPY_MODEL_370632aff186450685b75f8ecc88266e",
            "_model_module": "@jupyter-widgets/controls",
            "children": [
              "IPY_MODEL_1aaebd994a4140688a6a6e4f3c1bcb50",
              "IPY_MODEL_919af23d2cdb432bb945e8fb23f85372"
            ]
          }
        },
        "370632aff186450685b75f8ecc88266e": {
          "model_module": "@jupyter-widgets/base",
          "model_name": "LayoutModel",
          "state": {
            "_view_name": "LayoutView",
            "grid_template_rows": null,
            "right": null,
            "justify_content": null,
            "_view_module": "@jupyter-widgets/base",
            "overflow": null,
            "_model_module_version": "1.2.0",
            "_view_count": null,
            "flex_flow": null,
            "width": null,
            "min_width": null,
            "border": null,
            "align_items": null,
            "bottom": null,
            "_model_module": "@jupyter-widgets/base",
            "top": null,
            "grid_column": null,
            "overflow_y": null,
            "overflow_x": null,
            "grid_auto_flow": null,
            "grid_area": null,
            "grid_template_columns": null,
            "flex": null,
            "_model_name": "LayoutModel",
            "justify_items": null,
            "grid_row": null,
            "max_height": null,
            "align_content": null,
            "visibility": null,
            "align_self": null,
            "height": null,
            "min_height": null,
            "padding": null,
            "grid_auto_rows": null,
            "grid_gap": null,
            "max_width": null,
            "order": null,
            "_view_module_version": "1.2.0",
            "grid_template_areas": null,
            "object_position": null,
            "object_fit": null,
            "grid_auto_columns": null,
            "margin": null,
            "display": null,
            "left": null
          }
        },
        "1aaebd994a4140688a6a6e4f3c1bcb50": {
          "model_module": "@jupyter-widgets/controls",
          "model_name": "LabelModel",
          "state": {
            "_view_name": "LabelView",
            "style": "IPY_MODEL_2992264f38024337a40f8831fc8bfbae",
            "_dom_classes": [],
            "description": "",
            "_model_name": "LabelModel",
            "placeholder": "​",
            "_view_module": "@jupyter-widgets/controls",
            "_model_module_version": "1.5.0",
            "value": " 0.01MB of 0.01MB uploaded (0.00MB deduped)\r",
            "_view_count": null,
            "_view_module_version": "1.5.0",
            "description_tooltip": null,
            "_model_module": "@jupyter-widgets/controls",
            "layout": "IPY_MODEL_a949b552f07f4eb8823152299e2acb7c"
          }
        },
        "919af23d2cdb432bb945e8fb23f85372": {
          "model_module": "@jupyter-widgets/controls",
          "model_name": "FloatProgressModel",
          "state": {
            "_view_name": "ProgressView",
            "style": "IPY_MODEL_0d55aac492704894813c3682c9eaa7db",
            "_dom_classes": [],
            "description": "",
            "_model_name": "FloatProgressModel",
            "bar_style": "",
            "max": 1,
            "_view_module": "@jupyter-widgets/controls",
            "_model_module_version": "1.5.0",
            "value": 1,
            "_view_count": null,
            "_view_module_version": "1.5.0",
            "orientation": "horizontal",
            "min": 0,
            "description_tooltip": null,
            "_model_module": "@jupyter-widgets/controls",
            "layout": "IPY_MODEL_6baa2ff7f7ec4727bbe1d81496177a0c"
          }
        },
        "2992264f38024337a40f8831fc8bfbae": {
          "model_module": "@jupyter-widgets/controls",
          "model_name": "DescriptionStyleModel",
          "state": {
            "_view_name": "StyleView",
            "_model_name": "DescriptionStyleModel",
            "description_width": "",
            "_view_module": "@jupyter-widgets/base",
            "_model_module_version": "1.5.0",
            "_view_count": null,
            "_view_module_version": "1.2.0",
            "_model_module": "@jupyter-widgets/controls"
          }
        },
        "a949b552f07f4eb8823152299e2acb7c": {
          "model_module": "@jupyter-widgets/base",
          "model_name": "LayoutModel",
          "state": {
            "_view_name": "LayoutView",
            "grid_template_rows": null,
            "right": null,
            "justify_content": null,
            "_view_module": "@jupyter-widgets/base",
            "overflow": null,
            "_model_module_version": "1.2.0",
            "_view_count": null,
            "flex_flow": null,
            "width": null,
            "min_width": null,
            "border": null,
            "align_items": null,
            "bottom": null,
            "_model_module": "@jupyter-widgets/base",
            "top": null,
            "grid_column": null,
            "overflow_y": null,
            "overflow_x": null,
            "grid_auto_flow": null,
            "grid_area": null,
            "grid_template_columns": null,
            "flex": null,
            "_model_name": "LayoutModel",
            "justify_items": null,
            "grid_row": null,
            "max_height": null,
            "align_content": null,
            "visibility": null,
            "align_self": null,
            "height": null,
            "min_height": null,
            "padding": null,
            "grid_auto_rows": null,
            "grid_gap": null,
            "max_width": null,
            "order": null,
            "_view_module_version": "1.2.0",
            "grid_template_areas": null,
            "object_position": null,
            "object_fit": null,
            "grid_auto_columns": null,
            "margin": null,
            "display": null,
            "left": null
          }
        },
        "0d55aac492704894813c3682c9eaa7db": {
          "model_module": "@jupyter-widgets/controls",
          "model_name": "ProgressStyleModel",
          "state": {
            "_view_name": "StyleView",
            "_model_name": "ProgressStyleModel",
            "description_width": "",
            "_view_module": "@jupyter-widgets/base",
            "_model_module_version": "1.5.0",
            "_view_count": null,
            "_view_module_version": "1.2.0",
            "bar_color": null,
            "_model_module": "@jupyter-widgets/controls"
          }
        },
        "6baa2ff7f7ec4727bbe1d81496177a0c": {
          "model_module": "@jupyter-widgets/base",
          "model_name": "LayoutModel",
          "state": {
            "_view_name": "LayoutView",
            "grid_template_rows": null,
            "right": null,
            "justify_content": null,
            "_view_module": "@jupyter-widgets/base",
            "overflow": null,
            "_model_module_version": "1.2.0",
            "_view_count": null,
            "flex_flow": null,
            "width": null,
            "min_width": null,
            "border": null,
            "align_items": null,
            "bottom": null,
            "_model_module": "@jupyter-widgets/base",
            "top": null,
            "grid_column": null,
            "overflow_y": null,
            "overflow_x": null,
            "grid_auto_flow": null,
            "grid_area": null,
            "grid_template_columns": null,
            "flex": null,
            "_model_name": "LayoutModel",
            "justify_items": null,
            "grid_row": null,
            "max_height": null,
            "align_content": null,
            "visibility": null,
            "align_self": null,
            "height": null,
            "min_height": null,
            "padding": null,
            "grid_auto_rows": null,
            "grid_gap": null,
            "max_width": null,
            "order": null,
            "_view_module_version": "1.2.0",
            "grid_template_areas": null,
            "object_position": null,
            "object_fit": null,
            "grid_auto_columns": null,
            "margin": null,
            "display": null,
            "left": null
          }
        },
        "14866fb080454cffb3fa6f8723aa05a7": {
          "model_module": "@jupyter-widgets/controls",
          "model_name": "VBoxModel",
          "state": {
            "_view_name": "VBoxView",
            "_dom_classes": [],
            "_model_name": "VBoxModel",
            "_view_module": "@jupyter-widgets/controls",
            "_model_module_version": "1.5.0",
            "_view_count": null,
            "_view_module_version": "1.5.0",
            "box_style": "",
            "layout": "IPY_MODEL_9553dbd054d1479fad67e6a5d86832c2",
            "_model_module": "@jupyter-widgets/controls",
            "children": [
              "IPY_MODEL_f30d3ad006114ec2a14ee3e28893b2ca",
              "IPY_MODEL_45738a491c7d4751a1685bee34a730b3"
            ]
          }
        },
        "9553dbd054d1479fad67e6a5d86832c2": {
          "model_module": "@jupyter-widgets/base",
          "model_name": "LayoutModel",
          "state": {
            "_view_name": "LayoutView",
            "grid_template_rows": null,
            "right": null,
            "justify_content": null,
            "_view_module": "@jupyter-widgets/base",
            "overflow": null,
            "_model_module_version": "1.2.0",
            "_view_count": null,
            "flex_flow": null,
            "width": null,
            "min_width": null,
            "border": null,
            "align_items": null,
            "bottom": null,
            "_model_module": "@jupyter-widgets/base",
            "top": null,
            "grid_column": null,
            "overflow_y": null,
            "overflow_x": null,
            "grid_auto_flow": null,
            "grid_area": null,
            "grid_template_columns": null,
            "flex": null,
            "_model_name": "LayoutModel",
            "justify_items": null,
            "grid_row": null,
            "max_height": null,
            "align_content": null,
            "visibility": null,
            "align_self": null,
            "height": null,
            "min_height": null,
            "padding": null,
            "grid_auto_rows": null,
            "grid_gap": null,
            "max_width": null,
            "order": null,
            "_view_module_version": "1.2.0",
            "grid_template_areas": null,
            "object_position": null,
            "object_fit": null,
            "grid_auto_columns": null,
            "margin": null,
            "display": null,
            "left": null
          }
        },
        "f30d3ad006114ec2a14ee3e28893b2ca": {
          "model_module": "@jupyter-widgets/controls",
          "model_name": "LabelModel",
          "state": {
            "_view_name": "LabelView",
            "style": "IPY_MODEL_b4ceeffc0c3746ffa6dcf614ca3b514d",
            "_dom_classes": [],
            "description": "",
            "_model_name": "LabelModel",
            "placeholder": "​",
            "_view_module": "@jupyter-widgets/controls",
            "_model_module_version": "1.5.0",
            "value": " 0.01MB of 0.01MB uploaded (0.00MB deduped)\r",
            "_view_count": null,
            "_view_module_version": "1.5.0",
            "description_tooltip": null,
            "_model_module": "@jupyter-widgets/controls",
            "layout": "IPY_MODEL_f2d67916fa664c3388eb10be9b9e0d71"
          }
        },
        "45738a491c7d4751a1685bee34a730b3": {
          "model_module": "@jupyter-widgets/controls",
          "model_name": "FloatProgressModel",
          "state": {
            "_view_name": "ProgressView",
            "style": "IPY_MODEL_549c231a499e4ba79732a0effcfbcd3f",
            "_dom_classes": [],
            "description": "",
            "_model_name": "FloatProgressModel",
            "bar_style": "",
            "max": 1,
            "_view_module": "@jupyter-widgets/controls",
            "_model_module_version": "1.5.0",
            "value": 1,
            "_view_count": null,
            "_view_module_version": "1.5.0",
            "orientation": "horizontal",
            "min": 0,
            "description_tooltip": null,
            "_model_module": "@jupyter-widgets/controls",
            "layout": "IPY_MODEL_a8f58d7f36c64afd80a7129bbf8b7f69"
          }
        },
        "b4ceeffc0c3746ffa6dcf614ca3b514d": {
          "model_module": "@jupyter-widgets/controls",
          "model_name": "DescriptionStyleModel",
          "state": {
            "_view_name": "StyleView",
            "_model_name": "DescriptionStyleModel",
            "description_width": "",
            "_view_module": "@jupyter-widgets/base",
            "_model_module_version": "1.5.0",
            "_view_count": null,
            "_view_module_version": "1.2.0",
            "_model_module": "@jupyter-widgets/controls"
          }
        },
        "f2d67916fa664c3388eb10be9b9e0d71": {
          "model_module": "@jupyter-widgets/base",
          "model_name": "LayoutModel",
          "state": {
            "_view_name": "LayoutView",
            "grid_template_rows": null,
            "right": null,
            "justify_content": null,
            "_view_module": "@jupyter-widgets/base",
            "overflow": null,
            "_model_module_version": "1.2.0",
            "_view_count": null,
            "flex_flow": null,
            "width": null,
            "min_width": null,
            "border": null,
            "align_items": null,
            "bottom": null,
            "_model_module": "@jupyter-widgets/base",
            "top": null,
            "grid_column": null,
            "overflow_y": null,
            "overflow_x": null,
            "grid_auto_flow": null,
            "grid_area": null,
            "grid_template_columns": null,
            "flex": null,
            "_model_name": "LayoutModel",
            "justify_items": null,
            "grid_row": null,
            "max_height": null,
            "align_content": null,
            "visibility": null,
            "align_self": null,
            "height": null,
            "min_height": null,
            "padding": null,
            "grid_auto_rows": null,
            "grid_gap": null,
            "max_width": null,
            "order": null,
            "_view_module_version": "1.2.0",
            "grid_template_areas": null,
            "object_position": null,
            "object_fit": null,
            "grid_auto_columns": null,
            "margin": null,
            "display": null,
            "left": null
          }
        },
        "549c231a499e4ba79732a0effcfbcd3f": {
          "model_module": "@jupyter-widgets/controls",
          "model_name": "ProgressStyleModel",
          "state": {
            "_view_name": "StyleView",
            "_model_name": "ProgressStyleModel",
            "description_width": "",
            "_view_module": "@jupyter-widgets/base",
            "_model_module_version": "1.5.0",
            "_view_count": null,
            "_view_module_version": "1.2.0",
            "bar_color": null,
            "_model_module": "@jupyter-widgets/controls"
          }
        },
        "a8f58d7f36c64afd80a7129bbf8b7f69": {
          "model_module": "@jupyter-widgets/base",
          "model_name": "LayoutModel",
          "state": {
            "_view_name": "LayoutView",
            "grid_template_rows": null,
            "right": null,
            "justify_content": null,
            "_view_module": "@jupyter-widgets/base",
            "overflow": null,
            "_model_module_version": "1.2.0",
            "_view_count": null,
            "flex_flow": null,
            "width": null,
            "min_width": null,
            "border": null,
            "align_items": null,
            "bottom": null,
            "_model_module": "@jupyter-widgets/base",
            "top": null,
            "grid_column": null,
            "overflow_y": null,
            "overflow_x": null,
            "grid_auto_flow": null,
            "grid_area": null,
            "grid_template_columns": null,
            "flex": null,
            "_model_name": "LayoutModel",
            "justify_items": null,
            "grid_row": null,
            "max_height": null,
            "align_content": null,
            "visibility": null,
            "align_self": null,
            "height": null,
            "min_height": null,
            "padding": null,
            "grid_auto_rows": null,
            "grid_gap": null,
            "max_width": null,
            "order": null,
            "_view_module_version": "1.2.0",
            "grid_template_areas": null,
            "object_position": null,
            "object_fit": null,
            "grid_auto_columns": null,
            "margin": null,
            "display": null,
            "left": null
          }
        },
        "ec0b9ca5559a437b8502970849d3b27a": {
          "model_module": "@jupyter-widgets/controls",
          "model_name": "VBoxModel",
          "state": {
            "_view_name": "VBoxView",
            "_dom_classes": [],
            "_model_name": "VBoxModel",
            "_view_module": "@jupyter-widgets/controls",
            "_model_module_version": "1.5.0",
            "_view_count": null,
            "_view_module_version": "1.5.0",
            "box_style": "",
            "layout": "IPY_MODEL_610f4f9e48684d96a5626ffff5cd8cd0",
            "_model_module": "@jupyter-widgets/controls",
            "children": [
              "IPY_MODEL_d78beaec2813442e89094d828fb03c4e",
              "IPY_MODEL_2956ba688a62400e8cc00fb151bf9c7d"
            ]
          }
        },
        "610f4f9e48684d96a5626ffff5cd8cd0": {
          "model_module": "@jupyter-widgets/base",
          "model_name": "LayoutModel",
          "state": {
            "_view_name": "LayoutView",
            "grid_template_rows": null,
            "right": null,
            "justify_content": null,
            "_view_module": "@jupyter-widgets/base",
            "overflow": null,
            "_model_module_version": "1.2.0",
            "_view_count": null,
            "flex_flow": null,
            "width": null,
            "min_width": null,
            "border": null,
            "align_items": null,
            "bottom": null,
            "_model_module": "@jupyter-widgets/base",
            "top": null,
            "grid_column": null,
            "overflow_y": null,
            "overflow_x": null,
            "grid_auto_flow": null,
            "grid_area": null,
            "grid_template_columns": null,
            "flex": null,
            "_model_name": "LayoutModel",
            "justify_items": null,
            "grid_row": null,
            "max_height": null,
            "align_content": null,
            "visibility": null,
            "align_self": null,
            "height": null,
            "min_height": null,
            "padding": null,
            "grid_auto_rows": null,
            "grid_gap": null,
            "max_width": null,
            "order": null,
            "_view_module_version": "1.2.0",
            "grid_template_areas": null,
            "object_position": null,
            "object_fit": null,
            "grid_auto_columns": null,
            "margin": null,
            "display": null,
            "left": null
          }
        },
        "d78beaec2813442e89094d828fb03c4e": {
          "model_module": "@jupyter-widgets/controls",
          "model_name": "LabelModel",
          "state": {
            "_view_name": "LabelView",
            "style": "IPY_MODEL_297f1fdf2659445cbde5f58442f3cfb8",
            "_dom_classes": [],
            "description": "",
            "_model_name": "LabelModel",
            "placeholder": "​",
            "_view_module": "@jupyter-widgets/controls",
            "_model_module_version": "1.5.0",
            "value": " 0.01MB of 0.01MB uploaded (0.00MB deduped)\r",
            "_view_count": null,
            "_view_module_version": "1.5.0",
            "description_tooltip": null,
            "_model_module": "@jupyter-widgets/controls",
            "layout": "IPY_MODEL_da07e3a68c4b46359152a80b1f27a69c"
          }
        },
        "2956ba688a62400e8cc00fb151bf9c7d": {
          "model_module": "@jupyter-widgets/controls",
          "model_name": "FloatProgressModel",
          "state": {
            "_view_name": "ProgressView",
            "style": "IPY_MODEL_5f8cd04d9f72431daecd33ae1acc994b",
            "_dom_classes": [],
            "description": "",
            "_model_name": "FloatProgressModel",
            "bar_style": "",
            "max": 1,
            "_view_module": "@jupyter-widgets/controls",
            "_model_module_version": "1.5.0",
            "value": 1,
            "_view_count": null,
            "_view_module_version": "1.5.0",
            "orientation": "horizontal",
            "min": 0,
            "description_tooltip": null,
            "_model_module": "@jupyter-widgets/controls",
            "layout": "IPY_MODEL_34c2d3c28d1c447681de67fc1fb6f4d1"
          }
        },
        "297f1fdf2659445cbde5f58442f3cfb8": {
          "model_module": "@jupyter-widgets/controls",
          "model_name": "DescriptionStyleModel",
          "state": {
            "_view_name": "StyleView",
            "_model_name": "DescriptionStyleModel",
            "description_width": "",
            "_view_module": "@jupyter-widgets/base",
            "_model_module_version": "1.5.0",
            "_view_count": null,
            "_view_module_version": "1.2.0",
            "_model_module": "@jupyter-widgets/controls"
          }
        },
        "da07e3a68c4b46359152a80b1f27a69c": {
          "model_module": "@jupyter-widgets/base",
          "model_name": "LayoutModel",
          "state": {
            "_view_name": "LayoutView",
            "grid_template_rows": null,
            "right": null,
            "justify_content": null,
            "_view_module": "@jupyter-widgets/base",
            "overflow": null,
            "_model_module_version": "1.2.0",
            "_view_count": null,
            "flex_flow": null,
            "width": null,
            "min_width": null,
            "border": null,
            "align_items": null,
            "bottom": null,
            "_model_module": "@jupyter-widgets/base",
            "top": null,
            "grid_column": null,
            "overflow_y": null,
            "overflow_x": null,
            "grid_auto_flow": null,
            "grid_area": null,
            "grid_template_columns": null,
            "flex": null,
            "_model_name": "LayoutModel",
            "justify_items": null,
            "grid_row": null,
            "max_height": null,
            "align_content": null,
            "visibility": null,
            "align_self": null,
            "height": null,
            "min_height": null,
            "padding": null,
            "grid_auto_rows": null,
            "grid_gap": null,
            "max_width": null,
            "order": null,
            "_view_module_version": "1.2.0",
            "grid_template_areas": null,
            "object_position": null,
            "object_fit": null,
            "grid_auto_columns": null,
            "margin": null,
            "display": null,
            "left": null
          }
        },
        "5f8cd04d9f72431daecd33ae1acc994b": {
          "model_module": "@jupyter-widgets/controls",
          "model_name": "ProgressStyleModel",
          "state": {
            "_view_name": "StyleView",
            "_model_name": "ProgressStyleModel",
            "description_width": "",
            "_view_module": "@jupyter-widgets/base",
            "_model_module_version": "1.5.0",
            "_view_count": null,
            "_view_module_version": "1.2.0",
            "bar_color": null,
            "_model_module": "@jupyter-widgets/controls"
          }
        },
        "34c2d3c28d1c447681de67fc1fb6f4d1": {
          "model_module": "@jupyter-widgets/base",
          "model_name": "LayoutModel",
          "state": {
            "_view_name": "LayoutView",
            "grid_template_rows": null,
            "right": null,
            "justify_content": null,
            "_view_module": "@jupyter-widgets/base",
            "overflow": null,
            "_model_module_version": "1.2.0",
            "_view_count": null,
            "flex_flow": null,
            "width": null,
            "min_width": null,
            "border": null,
            "align_items": null,
            "bottom": null,
            "_model_module": "@jupyter-widgets/base",
            "top": null,
            "grid_column": null,
            "overflow_y": null,
            "overflow_x": null,
            "grid_auto_flow": null,
            "grid_area": null,
            "grid_template_columns": null,
            "flex": null,
            "_model_name": "LayoutModel",
            "justify_items": null,
            "grid_row": null,
            "max_height": null,
            "align_content": null,
            "visibility": null,
            "align_self": null,
            "height": null,
            "min_height": null,
            "padding": null,
            "grid_auto_rows": null,
            "grid_gap": null,
            "max_width": null,
            "order": null,
            "_view_module_version": "1.2.0",
            "grid_template_areas": null,
            "object_position": null,
            "object_fit": null,
            "grid_auto_columns": null,
            "margin": null,
            "display": null,
            "left": null
          }
        }
      }
    }
  },
  "cells": [
    {
      "cell_type": "code",
      "metadata": {
        "id": "xVjuXsr1zLu2",
        "colab": {
          "base_uri": "https://localhost:8080/"
        },
        "outputId": "0692c88a-1f59-43d1-a9bc-a24c009962a1"
      },
      "source": [
        "#import the dataset \n",
        "from keras.datasets import fashion_mnist\n",
        "%pip install wandb -q\n",
        "import wandb"
      ],
      "execution_count": 2,
      "outputs": [
        {
          "output_type": "stream",
          "text": [
            "\u001b[K     |████████████████████████████████| 2.0MB 7.5MB/s \n",
            "\u001b[K     |████████████████████████████████| 163kB 52.0MB/s \n",
            "\u001b[K     |████████████████████████████████| 133kB 50.7MB/s \n",
            "\u001b[K     |████████████████████████████████| 102kB 8.9MB/s \n",
            "\u001b[K     |████████████████████████████████| 71kB 4.7MB/s \n",
            "\u001b[?25h  Building wheel for pathtools (setup.py) ... \u001b[?25l\u001b[?25hdone\n",
            "  Building wheel for subprocess32 (setup.py) ... \u001b[?25l\u001b[?25hdone\n"
          ],
          "name": "stdout"
        }
      ]
    },
    {
      "cell_type": "code",
      "metadata": {
        "id": "6Km9Y4J49Rqg"
      },
      "source": [
        "sweep_config = {\n",
        "    'method': 'bayes', #grid, random\n",
        "    'metric': {\n",
        "      'name': 'accuracy',\n",
        "      'goal': 'maximize'   \n",
        "    },\n",
        "    'parameters': {\n",
        "        'epochs': {\n",
        "            'values': [5,10]\n",
        "        },\n",
        "        'hidden_layers': {\n",
        "            'values': [3,4,5]\n",
        "        },\n",
        "        'size_layer': {\n",
        "            'values': [32, 64, 128]\n",
        "        },\n",
        "        #'weight decay': {\n",
        "         #   'values': [0,0.0005, 0.5]\n",
        "        #},\n",
        "        'learning_rate': {\n",
        "            'values': [ 1e-3, 1e-4]\n",
        "        },\n",
        "        'optimizer': {\n",
        "            'values': ['nadam','vanilla','momentum','rmsprop']\n",
        "        },\n",
        "        'batch_size':{\n",
        "            'values': [16,32,64]\n",
        "        },\n",
        "        #'weight_init':{\n",
        "         #   'values': ['random','xavier']\n",
        "        #},\n",
        "        'activation': {\n",
        "            'values': ['tanh','sigmoid', 'ReLU']\n",
        "        }\n",
        "    }\n",
        "}"
      ],
      "execution_count": 59,
      "outputs": []
    },
    {
      "cell_type": "code",
      "metadata": {
        "id": "OQLWjHat0lV4"
      },
      "source": [
        "#import the required libraries \n",
        "from matplotlib import pyplot\n",
        "import numpy as np"
      ],
      "execution_count": 4,
      "outputs": []
    },
    {
      "cell_type": "code",
      "metadata": {
        "id": "rP17UY7v0C7w",
        "colab": {
          "base_uri": "https://localhost:8080/"
        },
        "outputId": "8a8b9466-5a78-46c4-ef6a-971ed812f318"
      },
      "source": [
        "#load the data into train and test \n",
        "(X_trainval,y_trainval),(X_test,y_test)=fashion_mnist.load_data()\n",
        "#pyplot.imshow(X_train[2])\n",
        "indices = np.random.permutation(X_trainval.shape[0])\n",
        "training_idx= indices[:54000]\n",
        "validation_idx = indices[54000:]\n",
        "#print(validation_idx)\n",
        "X_train, X_val = X_trainval[training_idx,:,:], X_trainval[validation_idx,:,:]\n",
        "y_train,y_val=y_trainval[training_idx],y_trainval[validation_idx]"
      ],
      "execution_count": 5,
      "outputs": [
        {
          "output_type": "stream",
          "text": [
            "Downloading data from https://storage.googleapis.com/tensorflow/tf-keras-datasets/train-labels-idx1-ubyte.gz\n",
            "32768/29515 [=================================] - 0s 0us/step\n",
            "Downloading data from https://storage.googleapis.com/tensorflow/tf-keras-datasets/train-images-idx3-ubyte.gz\n",
            "26427392/26421880 [==============================] - 0s 0us/step\n",
            "Downloading data from https://storage.googleapis.com/tensorflow/tf-keras-datasets/t10k-labels-idx1-ubyte.gz\n",
            "8192/5148 [===============================================] - 0s 0us/step\n",
            "Downloading data from https://storage.googleapis.com/tensorflow/tf-keras-datasets/t10k-images-idx3-ubyte.gz\n",
            "4423680/4422102 [==============================] - 0s 0us/step\n"
          ],
          "name": "stdout"
        }
      ]
    },
    {
      "cell_type": "code",
      "metadata": {
        "colab": {
          "base_uri": "https://localhost:8080/"
        },
        "id": "z27sdlQmMH1O",
        "outputId": "39e9407d-4d4e-4bed-f906-e3ab7cbb6a1b"
      },
      "source": [
        "noOfImages = X_train.shape[0]\n",
        "print(noOfImages)\n",
        "X_train = (1.0/255)*np.array([X_train[i].flatten() for i in range(0,X_train.shape[0])])\n",
        "#X_train = np.array([X_train[i].flatten() for i in range(0,noOfImages)])\n",
        "print(X_train.shape)\n",
        "X_test =(1.0/255)*np.array([X_test[i].flatten() for i in range(0,X_test.shape[0])])\n",
        "X_val =(1.0/255)*np.array([X_val[i].flatten() for i in range(0,X_val.shape[0])])\n",
        "\n",
        "print(X_test.shape)\n",
        "print(X_train.shape)\n",
        "print(X_val.shape)\n"
      ],
      "execution_count": 6,
      "outputs": [
        {
          "output_type": "stream",
          "text": [
            "54000\n",
            "(54000, 784)\n",
            "(10000, 784)\n",
            "(54000, 784)\n",
            "(6000, 784)\n"
          ],
          "name": "stdout"
        }
      ]
    },
    {
      "cell_type": "code",
      "metadata": {
        "colab": {
          "base_uri": "https://localhost:8080/"
        },
        "id": "RtQEmgi3Opy_",
        "outputId": "3f9b30f9-47a1-41b0-ef87-2d4b80d46112"
      },
      "source": [
        "print(X_train[0])"
      ],
      "execution_count": 7,
      "outputs": [
        {
          "output_type": "stream",
          "text": [
            "[0.         0.         0.         0.00392157 0.         0.00392157\n",
            " 0.         0.         0.         0.         0.17647059 0.63529412\n",
            " 0.45490196 0.45098039 0.44705882 0.47058824 0.64313725 0.30980392\n",
            " 0.         0.         0.         0.         0.         0.00392157\n",
            " 0.         0.         0.         0.         0.         0.\n",
            " 0.         0.         0.         0.         0.         0.19215686\n",
            " 0.59607843 0.91764706 0.88627451 0.96862745 0.97647059 0.96470588\n",
            " 1.         0.96078431 0.9254902  0.91372549 0.98823529 0.64313725\n",
            " 0.25098039 0.         0.         0.         0.         0.\n",
            " 0.         0.         0.         0.         0.         0.\n",
            " 0.         0.42352941 0.78823529 0.90588235 0.91764706 0.87843137\n",
            " 0.85490196 0.85490196 0.86666667 0.77254902 0.80784314 0.85882353\n",
            " 0.84705882 0.87058824 0.88627451 0.9372549  0.92941176 0.83529412\n",
            " 0.43137255 0.         0.         0.         0.         0.\n",
            " 0.         0.         0.         0.         0.34117647 0.95686275\n",
            " 0.8627451  0.84705882 0.83921569 0.85098039 0.8745098  0.8627451\n",
            " 0.86666667 0.88627451 0.87843137 0.8745098  0.87843137 0.87058824\n",
            " 0.8745098  0.85882353 0.85490196 0.87843137 0.95294118 0.39607843\n",
            " 0.         0.         0.         0.         0.         0.\n",
            " 0.         0.         0.88627451 0.8627451  0.83529412 0.85490196\n",
            " 0.8627451  0.8627451  0.85882353 0.85882353 0.85882353 0.85490196\n",
            " 0.85882353 0.86666667 0.8627451  0.87058824 0.86666667 0.87058824\n",
            " 0.87058824 0.84313725 0.87058824 0.91372549 0.         0.\n",
            " 0.         0.         0.         0.         0.         0.\n",
            " 0.84705882 0.83137255 0.84705882 0.85098039 0.85098039 0.85490196\n",
            " 0.85882353 0.85490196 0.85882353 0.85098039 0.84705882 0.85098039\n",
            " 0.85490196 0.8627451  0.8627451  0.8627451  0.85882353 0.85882353\n",
            " 0.83529412 0.87843137 0.10196078 0.         0.         0.\n",
            " 0.         0.         0.         0.19607843 0.99215686 0.84705882\n",
            " 0.84313725 0.84313725 0.84705882 0.85098039 0.85490196 0.85490196\n",
            " 0.85490196 0.85098039 0.85098039 0.85490196 0.85490196 0.85882353\n",
            " 0.85882353 0.85882353 0.8627451  0.84313725 0.84705882 0.90588235\n",
            " 0.30980392 0.         0.         0.         0.         0.\n",
            " 0.         0.36862745 0.99607843 0.84705882 0.85490196 0.83529412\n",
            " 0.83921569 0.84705882 0.85490196 0.85490196 0.85490196 0.85098039\n",
            " 0.85098039 0.85098039 0.85490196 0.85490196 0.85098039 0.85098039\n",
            " 0.83921569 0.8627451  0.87058824 0.98823529 0.4627451  0.\n",
            " 0.         0.         0.         0.         0.         0.53333333\n",
            " 0.88627451 0.84313725 0.8745098  0.84313725 0.83137255 0.83529412\n",
            " 0.84705882 0.84313725 0.84313725 0.84705882 0.83921569 0.83921569\n",
            " 0.84313725 0.85098039 0.85490196 0.85098039 0.84313725 0.88627451\n",
            " 0.85490196 0.88627451 0.61960784 0.         0.         0.\n",
            " 0.         0.         0.         0.72156863 0.83529412 0.83921569\n",
            " 0.86666667 0.83921569 0.83137255 0.83529412 0.83529412 0.83529412\n",
            " 0.83529412 0.83529412 0.83137255 0.82745098 0.83529412 0.84705882\n",
            " 0.85098039 0.85882353 0.83921569 0.86666667 0.83529412 0.85490196\n",
            " 0.78431373 0.         0.         0.         0.         0.\n",
            " 0.         0.87058824 0.89803922 0.8745098  0.90980392 0.85098039\n",
            " 0.83529412 0.85098039 0.83921569 0.83921569 0.83921569 0.83921569\n",
            " 0.83137255 0.83137255 0.83921569 0.84705882 0.85098039 0.8627451\n",
            " 0.85490196 0.9254902  0.90196078 0.8745098  0.83137255 0.\n",
            " 0.         0.         0.         0.         0.         0.33333333\n",
            " 0.59607843 0.8        0.83137255 0.8627451  0.84313725 0.84313725\n",
            " 0.83529412 0.83921569 0.83921569 0.83921569 0.83529412 0.83529412\n",
            " 0.83921569 0.83921569 0.8627451  0.85098039 0.90196078 0.5254902\n",
            " 0.1372549  0.06666667 0.         0.         0.         0.\n",
            " 0.         0.         0.         0.         0.         0.\n",
            " 0.         0.74117647 0.88235294 0.81960784 0.83137255 0.83921569\n",
            " 0.83921569 0.83921569 0.83529412 0.83529412 0.83921569 0.83529412\n",
            " 0.87058824 0.84705882 0.9254902  0.13333333 0.         0.\n",
            " 0.         0.         0.         0.         0.         0.\n",
            " 0.         0.00784314 0.00392157 0.         0.         0.76078431\n",
            " 0.88235294 0.83529412 0.83529412 0.83921569 0.83921569 0.84313725\n",
            " 0.83921569 0.83921569 0.84313725 0.83921569 0.8745098  0.84705882\n",
            " 0.90196078 0.23529412 0.         0.02352941 0.00784314 0.\n",
            " 0.         0.         0.         0.         0.         0.\n",
            " 0.         0.         0.         0.65882353 0.89411765 0.82352941\n",
            " 0.84313725 0.83921569 0.83529412 0.84313725 0.83921569 0.83529412\n",
            " 0.83921569 0.83921569 0.87843137 0.85098039 0.88627451 0.18039216\n",
            " 0.         0.00784314 0.         0.         0.         0.\n",
            " 0.         0.         0.         0.         0.         0.\n",
            " 0.         0.59607843 0.90588235 0.82352941 0.84705882 0.84313725\n",
            " 0.83529412 0.85098039 0.84705882 0.82745098 0.83529412 0.84313725\n",
            " 0.8745098  0.85882353 0.89019608 0.1372549  0.         0.02352941\n",
            " 0.         0.         0.         0.         0.         0.\n",
            " 0.         0.         0.         0.00392157 0.         0.54509804\n",
            " 0.90588235 0.81568627 0.84705882 0.84313725 0.83529412 0.85098039\n",
            " 0.85098039 0.83137255 0.83921569 0.84705882 0.86666667 0.85882353\n",
            " 0.88235294 0.11372549 0.         0.02352941 0.         0.\n",
            " 0.         0.         0.         0.         0.         0.\n",
            " 0.         0.00784314 0.         0.48627451 0.90980392 0.81176471\n",
            " 0.84705882 0.84313725 0.83529412 0.85098039 0.85490196 0.83529412\n",
            " 0.84313725 0.85098039 0.85882353 0.85882353 0.8745098  0.08627451\n",
            " 0.         0.01960784 0.         0.         0.         0.\n",
            " 0.         0.         0.         0.         0.         0.01568627\n",
            " 0.         0.43137255 0.90588235 0.81176471 0.85098039 0.83529412\n",
            " 0.83529412 0.85490196 0.85490196 0.83529412 0.84705882 0.85490196\n",
            " 0.85490196 0.85882353 0.87058824 0.0627451  0.         0.01960784\n",
            " 0.         0.         0.         0.         0.         0.\n",
            " 0.         0.         0.         0.01568627 0.         0.40784314\n",
            " 0.90196078 0.81568627 0.85098039 0.82745098 0.83529412 0.85490196\n",
            " 0.85098039 0.83529412 0.85098039 0.85882353 0.85490196 0.85882353\n",
            " 0.87058824 0.05490196 0.         0.01960784 0.         0.\n",
            " 0.         0.         0.         0.         0.         0.\n",
            " 0.         0.01568627 0.         0.40392157 0.89803922 0.81960784\n",
            " 0.85098039 0.82745098 0.83529412 0.85882353 0.85490196 0.83921569\n",
            " 0.85098039 0.85882353 0.85882353 0.8627451  0.87058824 0.05882353\n",
            " 0.         0.01960784 0.         0.         0.         0.\n",
            " 0.         0.         0.         0.         0.         0.01568627\n",
            " 0.         0.39607843 0.89411765 0.82352941 0.85098039 0.82745098\n",
            " 0.83529412 0.85882353 0.85882353 0.84313725 0.85490196 0.8627451\n",
            " 0.8627451  0.86666667 0.8745098  0.05882353 0.         0.01960784\n",
            " 0.         0.         0.         0.         0.         0.\n",
            " 0.         0.         0.         0.01568627 0.         0.33333333\n",
            " 0.89019608 0.82745098 0.84313725 0.83921569 0.84313725 0.8627451\n",
            " 0.85882353 0.83921569 0.8627451  0.85490196 0.86666667 0.86666667\n",
            " 0.85882353 0.01176471 0.         0.01176471 0.         0.\n",
            " 0.         0.         0.         0.         0.         0.\n",
            " 0.         0.01176471 0.         0.29019608 0.88235294 0.83529412\n",
            " 0.84705882 0.84313725 0.84705882 0.8627451  0.85882353 0.83921569\n",
            " 0.8627451  0.85490196 0.86666667 0.86666667 0.84705882 0.\n",
            " 0.         0.01176471 0.         0.         0.         0.\n",
            " 0.         0.         0.         0.         0.         0.02352941\n",
            " 0.         0.24705882 0.87058824 0.83921569 0.85490196 0.85098039\n",
            " 0.85490196 0.87058824 0.8627451  0.84705882 0.86666667 0.85490196\n",
            " 0.86666667 0.87058824 0.83529412 0.         0.         0.01176471\n",
            " 0.         0.         0.         0.         0.         0.\n",
            " 0.         0.         0.         0.01960784 0.         0.20392157\n",
            " 0.85490196 0.83137255 0.85098039 0.84313725 0.85490196 0.85490196\n",
            " 0.84705882 0.83921569 0.85490196 0.83921569 0.85882353 0.85882353\n",
            " 0.82352941 0.         0.         0.01568627 0.         0.\n",
            " 0.         0.         0.         0.         0.         0.\n",
            " 0.         0.01960784 0.         0.12941176 0.89019608 0.87058824\n",
            " 0.8745098  0.91372549 0.90588235 0.91764706 0.92156863 0.92156863\n",
            " 0.92156863 0.94117647 0.91372549 0.9372549  0.8745098  0.\n",
            " 0.         0.01176471 0.         0.         0.         0.\n",
            " 0.         0.         0.         0.         0.         0.00392157\n",
            " 0.         0.         0.49019608 0.66666667 0.68235294 0.70980392\n",
            " 0.74901961 0.76862745 0.75686275 0.71764706 0.69411765 0.64705882\n",
            " 0.59607843 0.54901961 0.33333333 0.         0.         0.\n",
            " 0.         0.         0.         0.        ]\n"
          ],
          "name": "stdout"
        }
      ]
    },
    {
      "cell_type": "code",
      "metadata": {
        "colab": {
          "base_uri": "https://localhost:8080/"
        },
        "id": "WnJHWPgMiiLw",
        "outputId": "df14c95c-2742-4292-b076-863203642ea4"
      },
      "source": [
        "\n",
        "l=10 #output classes\n",
        "noOfneuronsEach=[120,20]\n",
        "noOfHiddenLayers=len(noOfneuronsEach)\n",
        "inputNeuronSize=X_train.shape[1]\n",
        "print(inputNeuronSize)\n",
        "parameters={}\n",
        "batchSize=600\n",
        "activate=\"sigmoid\"\n",
        "iterations=10\n",
        "#eta=1   \n",
        "eta=0.001   #for rmsprop higher learning rate gradients explode causing overflow\n",
        "#eta=0.002 #Nadam\n",
        "#input W\n",
        "#initialization\n",
        "parameters['W'+str(1)] =np.random.uniform(low=-0.5,high=0.5,size=(noOfneuronsEach[0], inputNeuronSize))\n",
        "parameters['b'+str(1)]= np.random.uniform(low=-0.5,high=0.5,size=(noOfneuronsEach[0],1))\n",
        "#parameters['W'+str(1)] =0+1.5*np.random.randn(noOfneuronsEach[0], inputNeuronSize)\n",
        "#parameters['b'+str(1)]= 0+1.5*np.random.randn(noOfneuronsEach[0],1)\n",
        "for i in range(2,noOfHiddenLayers+1):\n",
        "  parameters['W'+str(i)] = np.random.uniform(low=-0.5,high=0.5,size=(noOfneuronsEach[i-1], noOfneuronsEach[i-2]))\n",
        "  parameters['b'+str(i)]= np.random.uniform(low=-0.5,high=0.5,size=(noOfneuronsEach[i-1],1))\n",
        "  #parameters['W'+str(i)] = 0+1.5*np.random.randn(noOfneuronsEach[i-1], noOfneuronsEach[i-2])\n",
        "  #parameters['b'+str(i)]= 0+1.5*np.random.randn(noOfneuronsEach[i-1],1)\n",
        "#Output W\n",
        "parameters['W'+str(noOfHiddenLayers+1)] = np.random.uniform(low=-0.5,high=0.5,size=(l, noOfneuronsEach[-1]))\n",
        "parameters['b'+str(noOfHiddenLayers+1)]= np.random.uniform(low=-0.5,high=0.5,size=(l,1))\n",
        "#parameters['W'+str(noOfHiddenLayers+1)] = 0+1.5*np.random.randn(l, noOfneuronsEach[-1])\n",
        "#parameters['b'+str(noOfHiddenLayers+1)]= 0+1.5*np.random.randn(l,1)\n"
      ],
      "execution_count": 35,
      "outputs": [
        {
          "output_type": "stream",
          "text": [
            "784\n"
          ],
          "name": "stdout"
        }
      ]
    },
    {
      "cell_type": "code",
      "metadata": {
        "id": "GFA10HAHKCb8"
      },
      "source": [
        "def softmax(X):\n",
        "  X=np.exp(X)\n",
        "  sum=np.sum(X,axis=0)\n",
        "  return X/sum \n"
      ],
      "execution_count": 9,
      "outputs": []
    },
    {
      "cell_type": "code",
      "metadata": {
        "id": "4ZgtMpEAUkIA"
      },
      "source": [
        "def sigmoidFunc(X):\n",
        "\n",
        "  return 1.0/(1.0+np.exp(-X))\n",
        "  #return res"
      ],
      "execution_count": 10,
      "outputs": []
    },
    {
      "cell_type": "code",
      "metadata": {
        "id": "5GJHo_F55wKD"
      },
      "source": [
        "def sigmoidDash(X):\n",
        "  return sigmoidFunc(X)*(1-sigmoidFunc(X))"
      ],
      "execution_count": 11,
      "outputs": []
    },
    {
      "cell_type": "code",
      "metadata": {
        "id": "1Vm9JVRJ49EB"
      },
      "source": [
        "def tanhFunc(X):\n",
        "  return ((np.exp(X)-np.exp(-X))/(np.exp(X)+np.exp(-X)))"
      ],
      "execution_count": 12,
      "outputs": []
    },
    {
      "cell_type": "code",
      "metadata": {
        "id": "UnBLyfN_5SVA"
      },
      "source": [
        "def tanhDash(X):\n",
        "  return (1-(tanhFunc(X)**2))"
      ],
      "execution_count": 43,
      "outputs": []
    },
    {
      "cell_type": "code",
      "metadata": {
        "id": "gwWt5uKh5dsU"
      },
      "source": [
        "def reluFunc(X): \n",
        "  return X*(X>0.0)"
      ],
      "execution_count": 14,
      "outputs": []
    },
    {
      "cell_type": "code",
      "metadata": {
        "id": "LcB08_L07AIF"
      },
      "source": [
        "def reluDash(X):\n",
        "  X[X<= 0.0]=0.0\n",
        "  X[X>0.0]=1.0\n",
        "  return X"
      ],
      "execution_count": 15,
      "outputs": []
    },
    {
      "cell_type": "code",
      "metadata": {
        "id": "1tSVgjSb7cLW"
      },
      "source": [
        "def gDash(X):\n",
        "  if activate=='sigmoid':\n",
        "    return sigmoidDash(X)\n",
        "  elif activate=='tanh':\n",
        "    return tanhDash(X)\n",
        "  elif activate=='ReLU':\n",
        "    return reluDash(X)"
      ],
      "execution_count": 16,
      "outputs": []
    },
    {
      "cell_type": "code",
      "metadata": {
        "id": "584r3_5t4Nbj"
      },
      "source": [
        "def activationFunc(X):\n",
        "  if activate=='sigmoid':\n",
        "    return sigmoidFunc(X)\n",
        "  elif activate=='tanh':\n",
        "    return tanhFunc(X)\n",
        "  elif activate=='ReLU':\n",
        "    return reluFunc(X)"
      ],
      "execution_count": 17,
      "outputs": []
    },
    {
      "cell_type": "code",
      "metadata": {
        "id": "pIfFadrLAkmM"
      },
      "source": [
        "def forwardPropagation(X,parameters):\n",
        "  preactivation={}\n",
        "  activation={}\n",
        "  activation['h0']=X.T\n",
        " \n",
        "  for k in range(1,noOfHiddenLayers+1):\n",
        "    preactivation['a'+str(k)]=np.dot(parameters['W'+str(k)],activation['h'+str(k-1)])+parameters['b'+str(k)]\n",
        "    activation['h'+str(k)]=activationFunc(preactivation['a'+str(k)])\n",
        " \n",
        "  preactivation['a'+str(noOfHiddenLayers+1)]=np.dot(parameters['W'+str(noOfHiddenLayers+1)],activation['h'+str(noOfHiddenLayers)])+parameters['b'+str(noOfHiddenLayers+1)]\n",
        "  y=softmax(preactivation['a'+str(noOfHiddenLayers+1)])    \n",
        "\n",
        "  return (preactivation,activation,y)\n",
        "\n"
      ],
      "execution_count": 19,
      "outputs": []
    },
    {
      "cell_type": "code",
      "metadata": {
        "id": "vZFsUg0xrJtv"
      },
      "source": [
        "def backPropagation(parameters,activation,preactivation,yhat,X,y_train):\n",
        "  grads={}\n",
        "  eIndicator=np.zeros((10,X.shape[0]))\n",
        "  eIndicator[y_train,np.arange(X.shape[0])]=1\n",
        "\n",
        "  grads['a'+str(noOfHiddenLayers+1)]= -(eIndicator-yhat)\n",
        "\n",
        "  for j in range(noOfHiddenLayers+1,0,-1):\n",
        "    grads['W'+str(j)]= np.dot(grads['a'+str(j)],activation['h'+str(j-1)].T)\n",
        " \n",
        "    grads['b'+str(j)]= np.sum(grads['a'+str(j)],axis=1,keepdims=True)\n",
        "    \n",
        "    grads['h'+str(j-1)]=np.dot(parameters['W'+str(j)].T,grads['a'+str(j)])\n",
        "    \n",
        "    if (j!=1):\n",
        "      grads['a'+str(j-1)]=grads['h'+str(j-1)]*gDash(preactivation['a'+str(j-1)])\n",
        "  return grads\n"
      ],
      "execution_count": 20,
      "outputs": []
    },
    {
      "cell_type": "code",
      "metadata": {
        "id": "3MXQ17Gk_Cuv"
      },
      "source": [
        "def Loss(yhat,y_train,X):\n",
        "  eIndicator=np.zeros((10,X.shape[0]))\n",
        "  eIndicator[y_train,np.arange(X.shape[0])]=1\n",
        "  eIndicator=eIndicator*yhat\n",
        "  eIndicator=eIndicator.sum(axis=0)\n",
        "  eIndicator=np.log(eIndicator)\n",
        "  return -sum(eIndicator)\n"
      ],
      "execution_count": 21,
      "outputs": []
    },
    {
      "cell_type": "code",
      "metadata": {
        "colab": {
          "base_uri": "https://localhost:8080/",
          "height": 121
        },
        "id": "WznyHo-2HrQD",
        "outputId": "e1dbcb7f-776f-4146-8397-59b562467f07"
      },
      "source": [
        "sweep_id = wandb.sweep(sweep_config, entity=\"aeaswar81\", project=\"testing\")"
      ],
      "execution_count": 22,
      "outputs": [
        {
          "output_type": "display_data",
          "data": {
            "application/javascript": [
              "\n",
              "        window._wandbApiKey = new Promise((resolve, reject) => {\n",
              "            function loadScript(url) {\n",
              "            return new Promise(function(resolve, reject) {\n",
              "                let newScript = document.createElement(\"script\");\n",
              "                newScript.onerror = reject;\n",
              "                newScript.onload = resolve;\n",
              "                document.body.appendChild(newScript);\n",
              "                newScript.src = url;\n",
              "            });\n",
              "            }\n",
              "            loadScript(\"https://cdn.jsdelivr.net/npm/postmate/build/postmate.min.js\").then(() => {\n",
              "            const iframe = document.createElement('iframe')\n",
              "            iframe.style.cssText = \"width:0;height:0;border:none\"\n",
              "            document.body.appendChild(iframe)\n",
              "            const handshake = new Postmate({\n",
              "                container: iframe,\n",
              "                url: 'https://wandb.ai/authorize'\n",
              "            });\n",
              "            const timeout = setTimeout(() => reject(\"Couldn't auto authenticate\"), 5000)\n",
              "            handshake.then(function(child) {\n",
              "                child.on('authorize', data => {\n",
              "                    clearTimeout(timeout)\n",
              "                    resolve(data)\n",
              "                });\n",
              "            });\n",
              "            })\n",
              "        });\n",
              "    "
            ],
            "text/plain": [
              "<IPython.core.display.Javascript object>"
            ]
          },
          "metadata": {
            "tags": []
          }
        },
        {
          "output_type": "stream",
          "text": [
            "\u001b[34m\u001b[1mwandb\u001b[0m: You can find your API key in your browser here: https://wandb.ai/authorize\n"
          ],
          "name": "stderr"
        },
        {
          "output_type": "stream",
          "text": [
            "wandb: Paste an API key from your profile and hit enter: ··········\n"
          ],
          "name": "stdout"
        },
        {
          "output_type": "stream",
          "text": [
            "\u001b[34m\u001b[1mwandb\u001b[0m: Appending key for api.wandb.ai to your netrc file: /root/.netrc\n"
          ],
          "name": "stderr"
        },
        {
          "output_type": "stream",
          "text": [
            "Create sweep with ID: zez6qnyv\n",
            "Sweep URL: https://wandb.ai/aeaswar81/testing/sweeps/zez6qnyv\n"
          ],
          "name": "stdout"
        }
      ]
    },
    {
      "cell_type": "code",
      "metadata": {
        "id": "t8QMwTDwvLXU"
      },
      "source": [
        "def train():\n",
        " # config_defaults = {\n",
        "        #'epochs': 2,\n",
        "       # 'batch_size': 128,\n",
        "        # 'activation': 'sigmoid',\n",
        "      #  'optimizer': 'nadam',\n",
        "     #   'size_layer':32,\n",
        "    #    'hidden_layers':3\n",
        "   # }\n",
        "  \n",
        "  wandb.init()\n",
        "  config = wandb.config\n",
        "  n=\"hl_\"+str(config.hidden_layers)+\"_bs_\"+str(config.batch_size)+\"_ac_\"+str(config.activation)\n",
        "  wandb.run.name=n\n",
        "  \n",
        "\n",
        "  parameters_reset(config.size_layer,config.hidden_layers,config.batch_size,config.epochs,config.learning_rate,config.activation)\n",
        "  if config.optimizer=='nadam':\n",
        "    nadam()\n",
        "  elif config.optimizer=='rmsprop':\n",
        "    rmsProp()\n",
        "  elif config.optimizer=='momentum':\n",
        "    momentumGD()\n",
        "  elif config.optimizer=='vanilla':\n",
        "    vanillagradDescent()\n"
      ],
      "execution_count": 61,
      "outputs": []
    },
    {
      "cell_type": "code",
      "metadata": {
        "id": "vw5nTf6osRiA"
      },
      "source": [
        "def parameters_reset(noOfneurons,hiddenlayers,batch,iter,learning,activation):\n",
        "  global l \n",
        "  global noOfneuronsEach\n",
        "  global noOfHiddenLayers\n",
        "  global inputNeuronSize\n",
        "  global parameters\n",
        "  global batchSize\n",
        "  global iterations\n",
        "  global eta\n",
        "  global activate\n",
        "  activate=activation\n",
        "  l=10 #output classes\n",
        "  noOfneuronsEach=[]\n",
        "  for i in range(hiddenlayers):\n",
        "    noOfneuronsEach.append(noOfneurons)\n",
        "  noOfHiddenLayers=hiddenlayers\n",
        "  inputNeuronSize=X_train.shape[1]\n",
        "  #print(inputNeuronSize)\n",
        "  parameters={}\n",
        "  batchSize=batch\n",
        "  iterations=iter\n",
        "  #eta=1   \n",
        "  #eta=0.001   #for rmsprop higher learning rate gradients explode causing overflow\n",
        "  #eta=0.002 #Nadam\n",
        "  eta=learning\n",
        "  #input W\n",
        "  #initialization\n",
        "  parameters['W'+str(1)] =np.random.uniform(low=-0.5,high=0.5,size=(noOfneuronsEach[0], inputNeuronSize))\n",
        "  parameters['b'+str(1)]= np.random.uniform(low=-0.5,high=0.5,size=(noOfneuronsEach[0],1))\n",
        "  #parameters['W'+str(1)] =0+1.5*np.random.randn(noOfneuronsEach[0], inputNeuronSize)\n",
        "  #parameters['b'+str(1)]= 0+1.5*np.random.randn(noOfneuronsEach[0],1)\n",
        "  for i in range(2,noOfHiddenLayers+1):\n",
        "    parameters['W'+str(i)] = np.random.uniform(low=-0.5,high=0.5,size=(noOfneuronsEach[i-1], noOfneuronsEach[i-2]))\n",
        "    parameters['b'+str(i)]= np.random.uniform(low=-0.5,high=0.5,size=(noOfneuronsEach[i-1],1))\n",
        "  #parameters['W'+str(i)] = 0+1.5*np.random.randn(noOfneuronsEach[i-1], noOfneuronsEach[i-2])\n",
        "  #parameters['b'+str(i)]= 0+1.5*np.random.randn(noOfneuronsEach[i-1],1)    \n",
        "  #Output W\n",
        "  parameters['W'+str(noOfHiddenLayers+1)] = np.random.uniform(low=-0.5,high=0.5,size=(l, noOfneuronsEach[-1]))\n",
        "  parameters['b'+str(noOfHiddenLayers+1)]= np.random.uniform(low=-0.5,high=0.5,size=(l,1))\n",
        "  #parameters['W'+str(noOfHiddenLayers+1)] = 0+1.5*np.random.randn(l, noOfneuronsEach[-1])\n",
        "  #parameters['b'+str(noOfHiddenLayers+1)]= 0+1.5*np.random.randn(l,1)"
      ],
      "execution_count": 36,
      "outputs": []
    },
    {
      "cell_type": "code",
      "metadata": {
        "id": "vpuXKyTzYJnB"
      },
      "source": [
        "def predict(X_test,y_test):\n",
        "  _,_,y_hat=forwardPropagation(X_test,parameters)\n",
        "  y_hat=y_hat.argmax(axis=0)\n",
        "  correctPred=np.sum(y_hat==y_test)\n",
        "  return correctPred/X_test.shape[0]*100"
      ],
      "execution_count": 25,
      "outputs": []
    },
    {
      "cell_type": "code",
      "metadata": {
        "id": "3rIfc41ocC7-"
      },
      "source": [
        "def vanillagradDescent():\n",
        "  t=0\n",
        "  while(t < iterations):\n",
        "    print(\"Epoch \",t)\n",
        "    #print(parameters)\n",
        "    mini=0\n",
        "    while(mini<(noOfImages/batchSize)):\n",
        "      #print(\"Batch \",mini)\n",
        "      X_mini=X_train[(mini*batchSize):((mini+1)*batchSize-1)]\n",
        "      y_mini=y_train[(mini*batchSize):((mini+1)*batchSize-1)]\n",
        "      preactivation,activation,yhat=forwardPropagation(X_mini,parameters)\n",
        "      gradients=backPropagation(parameters,activation,preactivation,yhat,X_mini,y_mini)\n",
        "    #print(\"gradients\",gradients)\n",
        "      for i in range(1,noOfHiddenLayers+2):\n",
        "        parameters['W'+str(i)] -=  eta*(1.0/X_mini.shape[0])*gradients['W'+str(i)]\n",
        "        parameters['b'+str(i)] -= eta*(1.0/X_mini.shape[0])*gradients['b'+str(i)]\n",
        "      mini+=1\n",
        "    _,_,yhat=forwardPropagation(X_train,parameters)\n",
        "    _,_,yhatval=forwardPropagation(X_val,parameters)\n",
        "    #print(\"loss after epoch \",Loss(yhat,y_train,X_train))\n",
        "    \n",
        "    t+=1\n",
        "    wandb.log({'val_loss':Loss(yhatval,y_val,X_val),'loss':Loss(yhat,y_train,X_train),'val_accuracy':predict(X_val,y_val) ,'accuracy':predict(X_train,y_train),'epochs': t})\n",
        "\n"
      ],
      "execution_count": 33,
      "outputs": []
    },
    {
      "cell_type": "code",
      "metadata": {
        "id": "5PBJIPYtcLmg"
      },
      "source": [
        "def momentumGD():\n",
        "  #initialization\n",
        "  prevW={}\n",
        "  prevb={}\n",
        "  gamma=0.9\n",
        "  prevW['W'+str(1)] =np.zeros((noOfneuronsEach[0], inputNeuronSize))\n",
        "  prevb['b'+str(1)]= np.zeros((noOfneuronsEach[0],1))\n",
        "  for i in range(2,noOfHiddenLayers+1):\n",
        "    prevW['W'+str(i)] = np.zeros((noOfneuronsEach[i-1], noOfneuronsEach[i-2]))\n",
        "    prevb['b'+str(i)]= np.zeros((noOfneuronsEach[i-1],1))\n",
        "  prevW['W'+str(noOfHiddenLayers+1)] = np.zeros((l, noOfneuronsEach[-1]))\n",
        "  prevb['b'+str(noOfHiddenLayers+1)]= np.zeros((l,1))\n",
        "  t=0\n",
        "  while(t<iterations):\n",
        "    print(\"Epoch \",t)\n",
        "    mini=0\n",
        "    while(mini<(noOfImages/batchSize)):\n",
        "      #print(\"Batch \",mini)\n",
        "      X_mini=X_train[(mini*batchSize):((mini+1)*batchSize-1)]\n",
        "      y_mini=y_train[(mini*batchSize):((mini+1)*batchSize-1)]\n",
        "      preactivation,activation,yhat=forwardPropagation(X_mini,parameters)\n",
        "      gradients=backPropagation(parameters,activation,preactivation,yhat,X_mini,y_mini)\n",
        "      #print(\"gradients\",gradients)\n",
        "      for i in range(1,noOfHiddenLayers+2):\n",
        "        w=gamma*prevW['W'+str(i)]+eta*(1.0/X_mini.shape[0])*gradients['W'+str(i)]\n",
        "        b=gamma*prevb['b'+str(i)]+eta*(1.0/X_mini.shape[0])*gradients['b'+str(i)]\n",
        "        parameters['W'+str(i)] -=  w\n",
        "        parameters['b'+str(i)] -=  b\n",
        "        prevW['W'+str(i)]=w\n",
        "        prevb['b'+str(i)]=b\n",
        "      mini+=1\n",
        "    _,_,yhat=forwardPropagation(X_train,parameters)\n",
        "    _,_,yhatval=forwardPropagation(X_val,parameters)\n",
        "    #print(\"loss after epoch \",Loss(yhat,y_train,X_train))\n",
        "    \n",
        "    t+=1\n",
        "    wandb.log({'val_loss':Loss(yhatval,y_val,X_val),'loss':Loss(yhat,y_train,X_train),'val_accuracy':predict(X_val,y_val) ,'accuracy':predict(X_train,y_train),'epochs': t})\n",
        "\n",
        "\n"
      ],
      "execution_count": 57,
      "outputs": []
    },
    {
      "cell_type": "code",
      "metadata": {
        "id": "JKIw16fnauT7"
      },
      "source": [
        "def rmsProp():\n",
        "  #initialization\n",
        "  prevW={}\n",
        "  prevb={}\n",
        "  epsilon=1e-8\n",
        "  beta=0.9\n",
        "  prevW['W'+str(1)] =np.zeros((noOfneuronsEach[0], inputNeuronSize))\n",
        "  prevb['b'+str(1)]= np.zeros((noOfneuronsEach[0],1))\n",
        "  for i in range(2,noOfHiddenLayers+1):\n",
        "    prevW['W'+str(i)] = np.zeros((noOfneuronsEach[i-1], noOfneuronsEach[i-2]))\n",
        "    prevb['b'+str(i)]= np.zeros((noOfneuronsEach[i-1],1))\n",
        "  prevW['W'+str(noOfHiddenLayers+1)] = np.zeros((l, noOfneuronsEach[-1]))\n",
        "  prevb['b'+str(noOfHiddenLayers+1)]= np.zeros((l,1))\n",
        "  t=0\n",
        "  while(t<iterations):\n",
        "    print(\"Epoch \",t)\n",
        "    mini=0\n",
        "    while(mini<(noOfImages/batchSize)):\n",
        "      #print(\"Batch \",mini)\n",
        "      X_mini=X_train[(mini*batchSize):((mini+1)*batchSize-1)]\n",
        "      y_mini=y_train[(mini*batchSize):((mini+1)*batchSize-1)]\n",
        "      preactivation,activation,yhat=forwardPropagation(X_mini,parameters)\n",
        "      gradients=backPropagation(parameters,activation,preactivation,yhat,X_mini,y_mini)\n",
        "      #print(\"gradients\",gradients)\n",
        "      for i in range(1,noOfHiddenLayers+2):\n",
        "        prevW['W'+str(i)]= beta*prevW['W'+str(i)]+(1.0 - beta)* (gradients['W'+str(i)]**2)\n",
        "        prevb['b'+str(i)]= beta*prevb['b'+str(i)]+(1.0 - beta)* (gradients['b'+str(i)]**2)\n",
        "        \n",
        "        parameters['W'+str(i)] -=  ((eta/np.sqrt(prevW['W'+str(i)]+epsilon))*gradients['W'+str(i)])\n",
        "        parameters['b'+str(i)] -=  ((eta/np.sqrt(prevb['b'+str(i)]+epsilon))*gradients['b'+str(i)])\n",
        "      mini+=1\n",
        "    _,_,yhat=forwardPropagation(X_train,parameters)\n",
        "    _,_,yhatval=forwardPropagation(X_val,parameters)\n",
        "    #print(\"loss after epoch \",Loss(yhat,y_train,X_train))\n",
        "    t+=1\n",
        "    wandb.log({'val_loss':Loss(yhatval,y_val,X_val),'loss':Loss(yhat,y_train,X_train),'val_accuracy':predict(X_val,y_val) ,'accuracy':predict(X_train,y_train),'epochs': t})\n"
      ],
      "execution_count": 31,
      "outputs": []
    },
    {
      "cell_type": "code",
      "metadata": {
        "id": "gnmSv72ylsBG"
      },
      "source": [
        "def nadam():\n",
        "  #initialization\n",
        "  prevW={}\n",
        "  prevb={}\n",
        "  mW={}\n",
        "  mb={}\n",
        "  epsilon=1e-8\n",
        "  beta1=0.9\n",
        "  beta2=0.999\n",
        "  prevW['W'+str(1)] =np.zeros((noOfneuronsEach[0], inputNeuronSize))\n",
        "  prevb['b'+str(1)]= np.zeros((noOfneuronsEach[0],1))\n",
        "  for i in range(2,noOfHiddenLayers+1):\n",
        "    prevW['W'+str(i)] = np.zeros((noOfneuronsEach[i-1], noOfneuronsEach[i-2]))\n",
        "    prevb['b'+str(i)]= np.zeros((noOfneuronsEach[i-1],1))\n",
        "  prevW['W'+str(noOfHiddenLayers+1)] = np.zeros((l, noOfneuronsEach[-1]))\n",
        "  prevb['b'+str(noOfHiddenLayers+1)]= np.zeros((l,1))\n",
        "\n",
        "  mW['W'+str(1)] =np.zeros((noOfneuronsEach[0], inputNeuronSize))\n",
        "  mb['b'+str(1)]= np.zeros((noOfneuronsEach[0],1))\n",
        "  for i in range(2,noOfHiddenLayers+1):\n",
        "    mW['W'+str(i)] = np.zeros((noOfneuronsEach[i-1], noOfneuronsEach[i-2]))\n",
        "    mb['b'+str(i)]= np.zeros((noOfneuronsEach[i-1],1))\n",
        "  mW['W'+str(noOfHiddenLayers+1)] = np.zeros((l, noOfneuronsEach[-1]))\n",
        "  mb['b'+str(noOfHiddenLayers+1)]= np.zeros((l,1))\n",
        "\n",
        "\n",
        "  t=0 #iterations \n",
        "  f=0 # update number \n",
        "  while(t<iterations):\n",
        "    print(\"Epoch \",t)\n",
        "    mini=0\n",
        "    while(mini<(noOfImages/batchSize)):\n",
        "      #print(\"Batch \",mini)\n",
        "      X_mini=X_train[(mini*batchSize):((mini+1)*batchSize-1)]\n",
        "      y_mini=y_train[(mini*batchSize):((mini+1)*batchSize-1)]\n",
        "      preactivation,activation,yhat=forwardPropagation(X_mini,parameters)\n",
        "      gradients=backPropagation(parameters,activation,preactivation,yhat,X_mini,y_mini)\n",
        "      f+=1\n",
        "      for i in range(1,noOfHiddenLayers+2):\n",
        "        mW['W'+str(i)]= beta1*mW['W'+str(i)]+(1.0 - beta1)* (gradients['W'+str(i)])\n",
        "        mb['b'+str(i)]= beta1*mb['b'+str(i)]+(1.0 - beta1)* (gradients['b'+str(i)])\n",
        "        \n",
        "        prevW['W'+str(i)]= beta2*prevW['W'+str(i)]+(1.0 - beta2)* (gradients['W'+str(i)]**2)\n",
        "        prevb['b'+str(i)]= beta2*prevb['b'+str(i)]+(1.0 - beta2)* (gradients['b'+str(i)]**2)\n",
        "\n",
        "        mWHat=(1.0-(beta1**f))*mW['W'+str(i)]\n",
        "        mbHat=(1.0-(beta1**f))*mb['b'+str(i)]\n",
        "\n",
        "        vWHat=(1.0-(beta2**f))*prevW['W'+str(i)]\n",
        "        vbHat=(1.0-(beta2**f))*prevb['b'+str(i)]\n",
        "        \n",
        "        mbarW= beta1*mWHat+(1.0-beta1)*gradients['W'+str(i)]\n",
        "        mbarb= beta1*mbHat+(1.0-beta1)*gradients['b'+str(i)]\n",
        "\n",
        "        parameters['W'+str(i)] -=  ((eta/np.sqrt(vWHat+epsilon))*mbarW)\n",
        "        parameters['b'+str(i)] -=  ((eta/np.sqrt(vbHat+epsilon))*mbarb)\n",
        "      mini+=1\n",
        "    _,_,yhat=forwardPropagation(X_train,parameters)\n",
        "    _,_,yhatval=forwardPropagation(X_val,parameters)\n",
        "    #print(\"loss after epoch \",Loss(yhat,y_train,X_train))\n",
        "    \n",
        "    t+=1\n",
        "    wandb.log({'val_loss':Loss(yhatval,y_val,X_val),'loss':Loss(yhat,y_train,X_train),'val_accuracy':predict(X_val,y_val) ,'accuracy':predict(X_train,y_train),'epochs': t})\n"
      ],
      "execution_count": 50,
      "outputs": []
    },
    {
      "cell_type": "code",
      "metadata": {
        "colab": {
          "base_uri": "https://localhost:8080/",
          "height": 1000,
          "referenced_widgets": [
            "e49a621c727647ddb904dcd5bc75267a",
            "370632aff186450685b75f8ecc88266e",
            "1aaebd994a4140688a6a6e4f3c1bcb50",
            "919af23d2cdb432bb945e8fb23f85372",
            "2992264f38024337a40f8831fc8bfbae",
            "a949b552f07f4eb8823152299e2acb7c",
            "0d55aac492704894813c3682c9eaa7db",
            "6baa2ff7f7ec4727bbe1d81496177a0c",
            "14866fb080454cffb3fa6f8723aa05a7",
            "9553dbd054d1479fad67e6a5d86832c2",
            "f30d3ad006114ec2a14ee3e28893b2ca",
            "45738a491c7d4751a1685bee34a730b3",
            "b4ceeffc0c3746ffa6dcf614ca3b514d",
            "f2d67916fa664c3388eb10be9b9e0d71",
            "549c231a499e4ba79732a0effcfbcd3f",
            "a8f58d7f36c64afd80a7129bbf8b7f69",
            "ec0b9ca5559a437b8502970849d3b27a",
            "610f4f9e48684d96a5626ffff5cd8cd0",
            "d78beaec2813442e89094d828fb03c4e",
            "2956ba688a62400e8cc00fb151bf9c7d",
            "297f1fdf2659445cbde5f58442f3cfb8",
            "da07e3a68c4b46359152a80b1f27a69c",
            "5f8cd04d9f72431daecd33ae1acc994b",
            "34c2d3c28d1c447681de67fc1fb6f4d1"
          ]
        },
        "id": "Kkm4t4Q6h86Z",
        "outputId": "29096dfd-9667-411f-af53-e5e67922b5a9"
      },
      "source": [
        "wandb.agent(sweep_id, train)"
      ],
      "execution_count": null,
      "outputs": [
        {
          "output_type": "stream",
          "text": [
            "\u001b[34m\u001b[1mwandb\u001b[0m: Agent Starting Run: v5oojctf with config:\n",
            "\u001b[34m\u001b[1mwandb\u001b[0m: \tactivation: tanh\n",
            "\u001b[34m\u001b[1mwandb\u001b[0m: \tbatch_size: 16\n",
            "\u001b[34m\u001b[1mwandb\u001b[0m: \tepochs: 5\n",
            "\u001b[34m\u001b[1mwandb\u001b[0m: \thidden_layers: 5\n",
            "\u001b[34m\u001b[1mwandb\u001b[0m: \tlearning_rate: 0.0001\n",
            "\u001b[34m\u001b[1mwandb\u001b[0m: \toptimizer: vanilla\n",
            "\u001b[34m\u001b[1mwandb\u001b[0m: \tsize_layer: 128\n"
          ],
          "name": "stderr"
        },
        {
          "output_type": "display_data",
          "data": {
            "text/html": [
              "\n",
              "                Tracking run with wandb version 0.10.22<br/>\n",
              "                Syncing run <strong style=\"color:#cdcd00\">wild-sweep-45</strong> to <a href=\"https://wandb.ai\" target=\"_blank\">Weights & Biases</a> <a href=\"https://docs.wandb.com/integrations/jupyter.html\" target=\"_blank\">(Documentation)</a>.<br/>\n",
              "                Project page: <a href=\"https://wandb.ai/aeaswar81/testing\" target=\"_blank\">https://wandb.ai/aeaswar81/testing</a><br/>\n",
              "                Sweep page: <a href=\"https://wandb.ai/aeaswar81/testing/sweeps/zez6qnyv\" target=\"_blank\">https://wandb.ai/aeaswar81/testing/sweeps/zez6qnyv</a><br/>\n",
              "Run page: <a href=\"https://wandb.ai/aeaswar81/testing/runs/v5oojctf\" target=\"_blank\">https://wandb.ai/aeaswar81/testing/runs/v5oojctf</a><br/>\n",
              "                Run data is saved locally in <code>/content/wandb/run-20210310_132527-v5oojctf</code><br/><br/>\n",
              "            "
            ],
            "text/plain": [
              "<IPython.core.display.HTML object>"
            ]
          },
          "metadata": {
            "tags": []
          }
        },
        {
          "output_type": "stream",
          "text": [
            "Epoch  0\n",
            "Epoch  1\n",
            "Epoch  2\n",
            "Epoch  3\n",
            "Epoch  4\n"
          ],
          "name": "stdout"
        },
        {
          "output_type": "display_data",
          "data": {
            "text/html": [
              "<br/>Waiting for W&B process to finish, PID 1649<br/>Program ended successfully."
            ],
            "text/plain": [
              "<IPython.core.display.HTML object>"
            ]
          },
          "metadata": {
            "tags": []
          }
        },
        {
          "output_type": "display_data",
          "data": {
            "application/vnd.jupyter.widget-view+json": {
              "model_id": "e49a621c727647ddb904dcd5bc75267a",
              "version_minor": 0,
              "version_major": 2
            },
            "text/plain": [
              "VBox(children=(Label(value=' 0.00MB of 0.00MB uploaded (0.00MB deduped)\\r'), FloatProgress(value=1.0, max=1.0)…"
            ]
          },
          "metadata": {
            "tags": []
          }
        },
        {
          "output_type": "display_data",
          "data": {
            "text/html": [
              "Find user logs for this run at: <code>/content/wandb/run-20210310_132527-v5oojctf/logs/debug.log</code>"
            ],
            "text/plain": [
              "<IPython.core.display.HTML object>"
            ]
          },
          "metadata": {
            "tags": []
          }
        },
        {
          "output_type": "display_data",
          "data": {
            "text/html": [
              "Find internal logs for this run at: <code>/content/wandb/run-20210310_132527-v5oojctf/logs/debug-internal.log</code>"
            ],
            "text/plain": [
              "<IPython.core.display.HTML object>"
            ]
          },
          "metadata": {
            "tags": []
          }
        },
        {
          "output_type": "display_data",
          "data": {
            "text/html": [
              "<h3>Run summary:</h3><br/><style>\n",
              "    table.wandb td:nth-child(1) { padding: 0 10px; text-align: right }\n",
              "    </style><table class=\"wandb\">\n",
              "<tr><td>val_loss</td><td>7051.72491</td></tr><tr><td>loss</td><td>61037.51222</td></tr><tr><td>val_accuracy</td><td>60.95</td></tr><tr><td>accuracy</td><td>62.38333</td></tr><tr><td>epochs</td><td>5</td></tr><tr><td>_runtime</td><td>177</td></tr><tr><td>_timestamp</td><td>1615382904</td></tr><tr><td>_step</td><td>4</td></tr></table>"
            ],
            "text/plain": [
              "<IPython.core.display.HTML object>"
            ]
          },
          "metadata": {
            "tags": []
          }
        },
        {
          "output_type": "display_data",
          "data": {
            "text/html": [
              "<h3>Run history:</h3><br/><style>\n",
              "    table.wandb td:nth-child(1) { padding: 0 10px; text-align: right }\n",
              "    </style><table class=\"wandb\">\n",
              "<tr><td>val_loss</td><td>█▄▃▂▁</td></tr><tr><td>loss</td><td>█▄▃▂▁</td></tr><tr><td>val_accuracy</td><td>▁▅▆▇█</td></tr><tr><td>accuracy</td><td>▁▄▆▇█</td></tr><tr><td>epochs</td><td>▁▃▅▆█</td></tr><tr><td>_runtime</td><td>▁▃▅▆█</td></tr><tr><td>_timestamp</td><td>▁▃▅▆█</td></tr><tr><td>_step</td><td>▁▃▅▆█</td></tr></table><br/>"
            ],
            "text/plain": [
              "<IPython.core.display.HTML object>"
            ]
          },
          "metadata": {
            "tags": []
          }
        },
        {
          "output_type": "display_data",
          "data": {
            "text/html": [
              "Synced 5 W&B file(s), 0 media file(s), 0 artifact file(s) and 0 other file(s)"
            ],
            "text/plain": [
              "<IPython.core.display.HTML object>"
            ]
          },
          "metadata": {
            "tags": []
          }
        },
        {
          "output_type": "display_data",
          "data": {
            "text/html": [
              "\n",
              "                    <br/>Synced <strong style=\"color:#cdcd00\">wild-sweep-45</strong>: <a href=\"https://wandb.ai/aeaswar81/testing/runs/v5oojctf\" target=\"_blank\">https://wandb.ai/aeaswar81/testing/runs/v5oojctf</a><br/>\n",
              "                "
            ],
            "text/plain": [
              "<IPython.core.display.HTML object>"
            ]
          },
          "metadata": {
            "tags": []
          }
        },
        {
          "output_type": "stream",
          "text": [
            "\u001b[34m\u001b[1mwandb\u001b[0m: Agent Starting Run: w8909u0t with config:\n",
            "\u001b[34m\u001b[1mwandb\u001b[0m: \tactivation: sigmoid\n",
            "\u001b[34m\u001b[1mwandb\u001b[0m: \tbatch_size: 64\n",
            "\u001b[34m\u001b[1mwandb\u001b[0m: \tepochs: 5\n",
            "\u001b[34m\u001b[1mwandb\u001b[0m: \thidden_layers: 4\n",
            "\u001b[34m\u001b[1mwandb\u001b[0m: \tlearning_rate: 0.001\n",
            "\u001b[34m\u001b[1mwandb\u001b[0m: \toptimizer: rmsprop\n",
            "\u001b[34m\u001b[1mwandb\u001b[0m: \tsize_layer: 32\n"
          ],
          "name": "stderr"
        },
        {
          "output_type": "display_data",
          "data": {
            "text/html": [
              "\n",
              "                Tracking run with wandb version 0.10.22<br/>\n",
              "                Syncing run <strong style=\"color:#cdcd00\">crisp-sweep-46</strong> to <a href=\"https://wandb.ai\" target=\"_blank\">Weights & Biases</a> <a href=\"https://docs.wandb.com/integrations/jupyter.html\" target=\"_blank\">(Documentation)</a>.<br/>\n",
              "                Project page: <a href=\"https://wandb.ai/aeaswar81/testing\" target=\"_blank\">https://wandb.ai/aeaswar81/testing</a><br/>\n",
              "                Sweep page: <a href=\"https://wandb.ai/aeaswar81/testing/sweeps/zez6qnyv\" target=\"_blank\">https://wandb.ai/aeaswar81/testing/sweeps/zez6qnyv</a><br/>\n",
              "Run page: <a href=\"https://wandb.ai/aeaswar81/testing/runs/w8909u0t\" target=\"_blank\">https://wandb.ai/aeaswar81/testing/runs/w8909u0t</a><br/>\n",
              "                Run data is saved locally in <code>/content/wandb/run-20210310_132830-w8909u0t</code><br/><br/>\n",
              "            "
            ],
            "text/plain": [
              "<IPython.core.display.HTML object>"
            ]
          },
          "metadata": {
            "tags": []
          }
        },
        {
          "output_type": "stream",
          "text": [
            "Epoch  0\n",
            "Epoch  1\n",
            "Epoch  2\n",
            "Epoch  3\n",
            "Epoch  4\n"
          ],
          "name": "stdout"
        },
        {
          "output_type": "display_data",
          "data": {
            "text/html": [
              "<br/>Waiting for W&B process to finish, PID 1688<br/>Program ended successfully."
            ],
            "text/plain": [
              "<IPython.core.display.HTML object>"
            ]
          },
          "metadata": {
            "tags": []
          }
        },
        {
          "output_type": "display_data",
          "data": {
            "application/vnd.jupyter.widget-view+json": {
              "model_id": "14866fb080454cffb3fa6f8723aa05a7",
              "version_minor": 0,
              "version_major": 2
            },
            "text/plain": [
              "VBox(children=(Label(value=' 0.00MB of 0.00MB uploaded (0.00MB deduped)\\r'), FloatProgress(value=1.0, max=1.0)…"
            ]
          },
          "metadata": {
            "tags": []
          }
        },
        {
          "output_type": "display_data",
          "data": {
            "text/html": [
              "Find user logs for this run at: <code>/content/wandb/run-20210310_132830-w8909u0t/logs/debug.log</code>"
            ],
            "text/plain": [
              "<IPython.core.display.HTML object>"
            ]
          },
          "metadata": {
            "tags": []
          }
        },
        {
          "output_type": "display_data",
          "data": {
            "text/html": [
              "Find internal logs for this run at: <code>/content/wandb/run-20210310_132830-w8909u0t/logs/debug-internal.log</code>"
            ],
            "text/plain": [
              "<IPython.core.display.HTML object>"
            ]
          },
          "metadata": {
            "tags": []
          }
        },
        {
          "output_type": "display_data",
          "data": {
            "text/html": [
              "<h3>Run summary:</h3><br/><style>\n",
              "    table.wandb td:nth-child(1) { padding: 0 10px; text-align: right }\n",
              "    </style><table class=\"wandb\">\n",
              "<tr><td>val_loss</td><td>2536.87658</td></tr><tr><td>loss</td><td>21853.46938</td></tr><tr><td>val_accuracy</td><td>85.03333</td></tr><tr><td>accuracy</td><td>85.58519</td></tr><tr><td>epochs</td><td>5</td></tr><tr><td>_runtime</td><td>25</td></tr><tr><td>_timestamp</td><td>1615382935</td></tr><tr><td>_step</td><td>4</td></tr></table>"
            ],
            "text/plain": [
              "<IPython.core.display.HTML object>"
            ]
          },
          "metadata": {
            "tags": []
          }
        },
        {
          "output_type": "display_data",
          "data": {
            "text/html": [
              "<h3>Run history:</h3><br/><style>\n",
              "    table.wandb td:nth-child(1) { padding: 0 10px; text-align: right }\n",
              "    </style><table class=\"wandb\">\n",
              "<tr><td>val_loss</td><td>█▄▂▁▁</td></tr><tr><td>loss</td><td>█▄▂▁▁</td></tr><tr><td>val_accuracy</td><td>▁▅▇██</td></tr><tr><td>accuracy</td><td>▁▅▇██</td></tr><tr><td>epochs</td><td>▁▃▅▆█</td></tr><tr><td>_runtime</td><td>▁▃▅▆█</td></tr><tr><td>_timestamp</td><td>▁▃▅▆█</td></tr><tr><td>_step</td><td>▁▃▅▆█</td></tr></table><br/>"
            ],
            "text/plain": [
              "<IPython.core.display.HTML object>"
            ]
          },
          "metadata": {
            "tags": []
          }
        },
        {
          "output_type": "display_data",
          "data": {
            "text/html": [
              "Synced 5 W&B file(s), 0 media file(s), 0 artifact file(s) and 0 other file(s)"
            ],
            "text/plain": [
              "<IPython.core.display.HTML object>"
            ]
          },
          "metadata": {
            "tags": []
          }
        },
        {
          "output_type": "display_data",
          "data": {
            "text/html": [
              "\n",
              "                    <br/>Synced <strong style=\"color:#cdcd00\">crisp-sweep-46</strong>: <a href=\"https://wandb.ai/aeaswar81/testing/runs/w8909u0t\" target=\"_blank\">https://wandb.ai/aeaswar81/testing/runs/w8909u0t</a><br/>\n",
              "                "
            ],
            "text/plain": [
              "<IPython.core.display.HTML object>"
            ]
          },
          "metadata": {
            "tags": []
          }
        },
        {
          "output_type": "stream",
          "text": [
            "\u001b[34m\u001b[1mwandb\u001b[0m: Agent Starting Run: dq1s1agy with config:\n",
            "\u001b[34m\u001b[1mwandb\u001b[0m: \tactivation: sigmoid\n",
            "\u001b[34m\u001b[1mwandb\u001b[0m: \tbatch_size: 16\n",
            "\u001b[34m\u001b[1mwandb\u001b[0m: \tepochs: 10\n",
            "\u001b[34m\u001b[1mwandb\u001b[0m: \thidden_layers: 5\n",
            "\u001b[34m\u001b[1mwandb\u001b[0m: \tlearning_rate: 0.001\n",
            "\u001b[34m\u001b[1mwandb\u001b[0m: \toptimizer: nadam\n",
            "\u001b[34m\u001b[1mwandb\u001b[0m: \tsize_layer: 32\n"
          ],
          "name": "stderr"
        },
        {
          "output_type": "display_data",
          "data": {
            "text/html": [
              "\n",
              "                Tracking run with wandb version 0.10.22<br/>\n",
              "                Syncing run <strong style=\"color:#cdcd00\">flowing-sweep-47</strong> to <a href=\"https://wandb.ai\" target=\"_blank\">Weights & Biases</a> <a href=\"https://docs.wandb.com/integrations/jupyter.html\" target=\"_blank\">(Documentation)</a>.<br/>\n",
              "                Project page: <a href=\"https://wandb.ai/aeaswar81/testing\" target=\"_blank\">https://wandb.ai/aeaswar81/testing</a><br/>\n",
              "                Sweep page: <a href=\"https://wandb.ai/aeaswar81/testing/sweeps/zez6qnyv\" target=\"_blank\">https://wandb.ai/aeaswar81/testing/sweeps/zez6qnyv</a><br/>\n",
              "Run page: <a href=\"https://wandb.ai/aeaswar81/testing/runs/dq1s1agy\" target=\"_blank\">https://wandb.ai/aeaswar81/testing/runs/dq1s1agy</a><br/>\n",
              "                Run data is saved locally in <code>/content/wandb/run-20210310_132901-dq1s1agy</code><br/><br/>\n",
              "            "
            ],
            "text/plain": [
              "<IPython.core.display.HTML object>"
            ]
          },
          "metadata": {
            "tags": []
          }
        },
        {
          "output_type": "stream",
          "text": [
            "Epoch  0\n",
            "Epoch  1\n",
            "Epoch  2\n",
            "Epoch  3\n",
            "Epoch  4\n",
            "Epoch  5\n",
            "Epoch  6\n",
            "Epoch  7\n",
            "Epoch  8\n",
            "Epoch  9\n"
          ],
          "name": "stdout"
        },
        {
          "output_type": "display_data",
          "data": {
            "text/html": [
              "<br/>Waiting for W&B process to finish, PID 1721<br/>Program ended successfully."
            ],
            "text/plain": [
              "<IPython.core.display.HTML object>"
            ]
          },
          "metadata": {
            "tags": []
          }
        },
        {
          "output_type": "display_data",
          "data": {
            "application/vnd.jupyter.widget-view+json": {
              "model_id": "ec0b9ca5559a437b8502970849d3b27a",
              "version_minor": 0,
              "version_major": 2
            },
            "text/plain": [
              "VBox(children=(Label(value=' 0.00MB of 0.00MB uploaded (0.00MB deduped)\\r'), FloatProgress(value=1.0, max=1.0)…"
            ]
          },
          "metadata": {
            "tags": []
          }
        },
        {
          "output_type": "display_data",
          "data": {
            "text/html": [
              "Find user logs for this run at: <code>/content/wandb/run-20210310_132901-dq1s1agy/logs/debug.log</code>"
            ],
            "text/plain": [
              "<IPython.core.display.HTML object>"
            ]
          },
          "metadata": {
            "tags": []
          }
        },
        {
          "output_type": "display_data",
          "data": {
            "text/html": [
              "Find internal logs for this run at: <code>/content/wandb/run-20210310_132901-dq1s1agy/logs/debug-internal.log</code>"
            ],
            "text/plain": [
              "<IPython.core.display.HTML object>"
            ]
          },
          "metadata": {
            "tags": []
          }
        },
        {
          "output_type": "display_data",
          "data": {
            "text/html": [
              "<h3>Run summary:</h3><br/><style>\n",
              "    table.wandb td:nth-child(1) { padding: 0 10px; text-align: right }\n",
              "    </style><table class=\"wandb\">\n",
              "<tr><td>val_loss</td><td>2341.14368</td></tr><tr><td>loss</td><td>17579.85922</td></tr><tr><td>val_accuracy</td><td>86.9</td></tr><tr><td>accuracy</td><td>88.6</td></tr><tr><td>epochs</td><td>10</td></tr><tr><td>_runtime</td><td>114</td></tr><tr><td>_timestamp</td><td>1615383055</td></tr><tr><td>_step</td><td>9</td></tr></table>"
            ],
            "text/plain": [
              "<IPython.core.display.HTML object>"
            ]
          },
          "metadata": {
            "tags": []
          }
        },
        {
          "output_type": "display_data",
          "data": {
            "text/html": [
              "<h3>Run history:</h3><br/><style>\n",
              "    table.wandb td:nth-child(1) { padding: 0 10px; text-align: right }\n",
              "    </style><table class=\"wandb\">\n",
              "<tr><td>val_loss</td><td>█▅▃▂▂▂▁▁▁▁</td></tr><tr><td>loss</td><td>█▅▄▃▂▂▂▁▁▁</td></tr><tr><td>val_accuracy</td><td>▁▅▆▇▇█████</td></tr><tr><td>accuracy</td><td>▁▅▆▇▇▇████</td></tr><tr><td>epochs</td><td>▁▂▃▃▄▅▆▆▇█</td></tr><tr><td>_runtime</td><td>▁▂▃▃▄▅▆▆▇█</td></tr><tr><td>_timestamp</td><td>▁▂▃▃▄▅▆▆▇█</td></tr><tr><td>_step</td><td>▁▂▃▃▄▅▆▆▇█</td></tr></table><br/>"
            ],
            "text/plain": [
              "<IPython.core.display.HTML object>"
            ]
          },
          "metadata": {
            "tags": []
          }
        },
        {
          "output_type": "display_data",
          "data": {
            "text/html": [
              "Synced 5 W&B file(s), 0 media file(s), 0 artifact file(s) and 0 other file(s)"
            ],
            "text/plain": [
              "<IPython.core.display.HTML object>"
            ]
          },
          "metadata": {
            "tags": []
          }
        },
        {
          "output_type": "display_data",
          "data": {
            "text/html": [
              "\n",
              "                    <br/>Synced <strong style=\"color:#cdcd00\">flowing-sweep-47</strong>: <a href=\"https://wandb.ai/aeaswar81/testing/runs/dq1s1agy\" target=\"_blank\">https://wandb.ai/aeaswar81/testing/runs/dq1s1agy</a><br/>\n",
              "                "
            ],
            "text/plain": [
              "<IPython.core.display.HTML object>"
            ]
          },
          "metadata": {
            "tags": []
          }
        },
        {
          "output_type": "stream",
          "text": [
            "\u001b[34m\u001b[1mwandb\u001b[0m: Agent Starting Run: su8ro9wq with config:\n",
            "\u001b[34m\u001b[1mwandb\u001b[0m: \tactivation: sigmoid\n",
            "\u001b[34m\u001b[1mwandb\u001b[0m: \tbatch_size: 64\n",
            "\u001b[34m\u001b[1mwandb\u001b[0m: \tepochs: 5\n",
            "\u001b[34m\u001b[1mwandb\u001b[0m: \thidden_layers: 3\n",
            "\u001b[34m\u001b[1mwandb\u001b[0m: \tlearning_rate: 0.001\n",
            "\u001b[34m\u001b[1mwandb\u001b[0m: \toptimizer: rmsprop\n",
            "\u001b[34m\u001b[1mwandb\u001b[0m: \tsize_layer: 128\n"
          ],
          "name": "stderr"
        }
      ]
    }
  ]
}